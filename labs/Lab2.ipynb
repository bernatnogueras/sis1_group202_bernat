{
 "cells": [
  {
   "cell_type": "markdown",
   "metadata": {
    "id": "7FEkSsqqPhe2"
   },
   "source": [
    "### **Lab 2: Introduction to Complex Exponentials**\n",
    "\n",
    "The goal of this laboratory is to gain familiarity with complex numbers and their use in representing sinusoidal signals as complex exponentials.\n",
    "\n",
    "**Complex Numbers in Python**\n",
    "\n",
    "\n",
    "Python can be used to compute complex-valued formulas and also to display the results as a vector or “phasor” diagrams.\n",
    "\n",
    "Here are some of numpy package complex number functions (remember to import package):\n",
    "\n",
    "*conj ()*       Complex conjugate\n",
    "\n",
    "*abs ()*        Magnitude\n",
    "\n",
    "*angle ()*      Angle (or phase) in radians\n",
    "\n",
    "*real ()*       Real part\n",
    "\n",
    "*imag ()*       Imaginary part\n",
    "*j *        pre-defined as <math>&radic;-1</math>\n",
    "\n",
    "*x = 3 + 4j*    j sufix defines imaginary constant\n",
    "\n",
    "exp(1j<math>*</math>theta)  Function for the complex exponential\n",
    "\n",
    "Each of these functions takes a vector (or matrix) as its input argument and operates on each element of the vector.\n",
    "\n",
    "To display a complex number as a point in the complex plane you can directly use the provided function `plot_complex`. It can take a single number or a list of complex numbers as input. For instance, to display the complex number 2+1j:"
   ]
  },
  {
   "cell_type": "code",
   "execution_count": 27,
   "metadata": {
    "colab": {
     "base_uri": "https://localhost:8080/"
    },
    "executionInfo": {
     "elapsed": 3415,
     "status": "ok",
     "timestamp": 1702317970077,
     "user": {
      "displayName": "PEDRO RAMONEDA FRANCO",
      "userId": "10653804143244385715"
     },
     "user_tz": -60
    },
    "id": "uvmioytcPgyZ",
    "outputId": "1fce312e-20b9-4609-df57-1a92ba465e41"
   },
   "outputs": [],
   "source": [
    "import numpy as np\n",
    "from IPython.display import Audio\n",
    "\n",
    "from util import load_audio, save_audio, plot_signals, plot_complex"
   ]
  },
  {
   "cell_type": "code",
   "execution_count": 28,
   "metadata": {
    "colab": {
     "base_uri": "https://localhost:8080/",
     "height": 542
    },
    "executionInfo": {
     "elapsed": 17,
     "status": "ok",
     "timestamp": 1702317970078,
     "user": {
      "displayName": "PEDRO RAMONEDA FRANCO",
      "userId": "10653804143244385715"
     },
     "user_tz": -60
    },
    "id": "t_Yo8e9yPvT6",
    "outputId": "2c45e158-029d-4451-b750-96607dd5e655"
   },
   "outputs": [
    {
     "data": {
      "application/vnd.plotly.v1+json": {
       "config": {
        "plotlyServerURL": "https://plot.ly"
       },
       "data": [
        {
         "line": {
          "color": "rgb(150,150,150)",
          "dash": "dash",
          "shape": "linear"
         },
         "mode": "lines",
         "name": "unit circle",
         "type": "scatter",
         "x": {
          "bdata": "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",
          "dtype": "f8"
         },
         "y": {
          "bdata": "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",
          "dtype": "f8"
         }
        },
        {
         "marker": {
          "color": "#1f77b4"
         },
         "mode": "markers",
         "name": "z_0",
         "type": "scatter",
         "x": [
          2
         ],
         "y": [
          1
         ]
        }
       ],
       "layout": {
        "annotations": [
         {
          "arrowcolor": "#1f77b4",
          "arrowhead": 3,
          "arrowwidth": 1.5,
          "ax": 0,
          "axref": "x",
          "ay": 0,
          "ayref": "y",
          "showarrow": true,
          "text": "",
          "x": 2,
          "y": 1
         }
        ],
        "template": {
         "data": {
          "bar": [
           {
            "error_x": {
             "color": "#2a3f5f"
            },
            "error_y": {
             "color": "#2a3f5f"
            },
            "marker": {
             "line": {
              "color": "#E5ECF6",
              "width": 0.5
             },
             "pattern": {
              "fillmode": "overlay",
              "size": 10,
              "solidity": 0.2
             }
            },
            "type": "bar"
           }
          ],
          "barpolar": [
           {
            "marker": {
             "line": {
              "color": "#E5ECF6",
              "width": 0.5
             },
             "pattern": {
              "fillmode": "overlay",
              "size": 10,
              "solidity": 0.2
             }
            },
            "type": "barpolar"
           }
          ],
          "carpet": [
           {
            "aaxis": {
             "endlinecolor": "#2a3f5f",
             "gridcolor": "white",
             "linecolor": "white",
             "minorgridcolor": "white",
             "startlinecolor": "#2a3f5f"
            },
            "baxis": {
             "endlinecolor": "#2a3f5f",
             "gridcolor": "white",
             "linecolor": "white",
             "minorgridcolor": "white",
             "startlinecolor": "#2a3f5f"
            },
            "type": "carpet"
           }
          ],
          "choropleth": [
           {
            "colorbar": {
             "outlinewidth": 0,
             "ticks": ""
            },
            "type": "choropleth"
           }
          ],
          "contour": [
           {
            "colorbar": {
             "outlinewidth": 0,
             "ticks": ""
            },
            "colorscale": [
             [
              0,
              "#0d0887"
             ],
             [
              0.1111111111111111,
              "#46039f"
             ],
             [
              0.2222222222222222,
              "#7201a8"
             ],
             [
              0.3333333333333333,
              "#9c179e"
             ],
             [
              0.4444444444444444,
              "#bd3786"
             ],
             [
              0.5555555555555556,
              "#d8576b"
             ],
             [
              0.6666666666666666,
              "#ed7953"
             ],
             [
              0.7777777777777778,
              "#fb9f3a"
             ],
             [
              0.8888888888888888,
              "#fdca26"
             ],
             [
              1,
              "#f0f921"
             ]
            ],
            "type": "contour"
           }
          ],
          "contourcarpet": [
           {
            "colorbar": {
             "outlinewidth": 0,
             "ticks": ""
            },
            "type": "contourcarpet"
           }
          ],
          "heatmap": [
           {
            "colorbar": {
             "outlinewidth": 0,
             "ticks": ""
            },
            "colorscale": [
             [
              0,
              "#0d0887"
             ],
             [
              0.1111111111111111,
              "#46039f"
             ],
             [
              0.2222222222222222,
              "#7201a8"
             ],
             [
              0.3333333333333333,
              "#9c179e"
             ],
             [
              0.4444444444444444,
              "#bd3786"
             ],
             [
              0.5555555555555556,
              "#d8576b"
             ],
             [
              0.6666666666666666,
              "#ed7953"
             ],
             [
              0.7777777777777778,
              "#fb9f3a"
             ],
             [
              0.8888888888888888,
              "#fdca26"
             ],
             [
              1,
              "#f0f921"
             ]
            ],
            "type": "heatmap"
           }
          ],
          "histogram": [
           {
            "marker": {
             "pattern": {
              "fillmode": "overlay",
              "size": 10,
              "solidity": 0.2
             }
            },
            "type": "histogram"
           }
          ],
          "histogram2d": [
           {
            "colorbar": {
             "outlinewidth": 0,
             "ticks": ""
            },
            "colorscale": [
             [
              0,
              "#0d0887"
             ],
             [
              0.1111111111111111,
              "#46039f"
             ],
             [
              0.2222222222222222,
              "#7201a8"
             ],
             [
              0.3333333333333333,
              "#9c179e"
             ],
             [
              0.4444444444444444,
              "#bd3786"
             ],
             [
              0.5555555555555556,
              "#d8576b"
             ],
             [
              0.6666666666666666,
              "#ed7953"
             ],
             [
              0.7777777777777778,
              "#fb9f3a"
             ],
             [
              0.8888888888888888,
              "#fdca26"
             ],
             [
              1,
              "#f0f921"
             ]
            ],
            "type": "histogram2d"
           }
          ],
          "histogram2dcontour": [
           {
            "colorbar": {
             "outlinewidth": 0,
             "ticks": ""
            },
            "colorscale": [
             [
              0,
              "#0d0887"
             ],
             [
              0.1111111111111111,
              "#46039f"
             ],
             [
              0.2222222222222222,
              "#7201a8"
             ],
             [
              0.3333333333333333,
              "#9c179e"
             ],
             [
              0.4444444444444444,
              "#bd3786"
             ],
             [
              0.5555555555555556,
              "#d8576b"
             ],
             [
              0.6666666666666666,
              "#ed7953"
             ],
             [
              0.7777777777777778,
              "#fb9f3a"
             ],
             [
              0.8888888888888888,
              "#fdca26"
             ],
             [
              1,
              "#f0f921"
             ]
            ],
            "type": "histogram2dcontour"
           }
          ],
          "mesh3d": [
           {
            "colorbar": {
             "outlinewidth": 0,
             "ticks": ""
            },
            "type": "mesh3d"
           }
          ],
          "parcoords": [
           {
            "line": {
             "colorbar": {
              "outlinewidth": 0,
              "ticks": ""
             }
            },
            "type": "parcoords"
           }
          ],
          "pie": [
           {
            "automargin": true,
            "type": "pie"
           }
          ],
          "scatter": [
           {
            "fillpattern": {
             "fillmode": "overlay",
             "size": 10,
             "solidity": 0.2
            },
            "type": "scatter"
           }
          ],
          "scatter3d": [
           {
            "line": {
             "colorbar": {
              "outlinewidth": 0,
              "ticks": ""
             }
            },
            "marker": {
             "colorbar": {
              "outlinewidth": 0,
              "ticks": ""
             }
            },
            "type": "scatter3d"
           }
          ],
          "scattercarpet": [
           {
            "marker": {
             "colorbar": {
              "outlinewidth": 0,
              "ticks": ""
             }
            },
            "type": "scattercarpet"
           }
          ],
          "scattergeo": [
           {
            "marker": {
             "colorbar": {
              "outlinewidth": 0,
              "ticks": ""
             }
            },
            "type": "scattergeo"
           }
          ],
          "scattergl": [
           {
            "marker": {
             "colorbar": {
              "outlinewidth": 0,
              "ticks": ""
             }
            },
            "type": "scattergl"
           }
          ],
          "scattermap": [
           {
            "marker": {
             "colorbar": {
              "outlinewidth": 0,
              "ticks": ""
             }
            },
            "type": "scattermap"
           }
          ],
          "scattermapbox": [
           {
            "marker": {
             "colorbar": {
              "outlinewidth": 0,
              "ticks": ""
             }
            },
            "type": "scattermapbox"
           }
          ],
          "scatterpolar": [
           {
            "marker": {
             "colorbar": {
              "outlinewidth": 0,
              "ticks": ""
             }
            },
            "type": "scatterpolar"
           }
          ],
          "scatterpolargl": [
           {
            "marker": {
             "colorbar": {
              "outlinewidth": 0,
              "ticks": ""
             }
            },
            "type": "scatterpolargl"
           }
          ],
          "scatterternary": [
           {
            "marker": {
             "colorbar": {
              "outlinewidth": 0,
              "ticks": ""
             }
            },
            "type": "scatterternary"
           }
          ],
          "surface": [
           {
            "colorbar": {
             "outlinewidth": 0,
             "ticks": ""
            },
            "colorscale": [
             [
              0,
              "#0d0887"
             ],
             [
              0.1111111111111111,
              "#46039f"
             ],
             [
              0.2222222222222222,
              "#7201a8"
             ],
             [
              0.3333333333333333,
              "#9c179e"
             ],
             [
              0.4444444444444444,
              "#bd3786"
             ],
             [
              0.5555555555555556,
              "#d8576b"
             ],
             [
              0.6666666666666666,
              "#ed7953"
             ],
             [
              0.7777777777777778,
              "#fb9f3a"
             ],
             [
              0.8888888888888888,
              "#fdca26"
             ],
             [
              1,
              "#f0f921"
             ]
            ],
            "type": "surface"
           }
          ],
          "table": [
           {
            "cells": {
             "fill": {
              "color": "#EBF0F8"
             },
             "line": {
              "color": "white"
             }
            },
            "header": {
             "fill": {
              "color": "#C8D4E3"
             },
             "line": {
              "color": "white"
             }
            },
            "type": "table"
           }
          ]
         },
         "layout": {
          "annotationdefaults": {
           "arrowcolor": "#2a3f5f",
           "arrowhead": 0,
           "arrowwidth": 1
          },
          "autotypenumbers": "strict",
          "coloraxis": {
           "colorbar": {
            "outlinewidth": 0,
            "ticks": ""
           }
          },
          "colorscale": {
           "diverging": [
            [
             0,
             "#8e0152"
            ],
            [
             0.1,
             "#c51b7d"
            ],
            [
             0.2,
             "#de77ae"
            ],
            [
             0.3,
             "#f1b6da"
            ],
            [
             0.4,
             "#fde0ef"
            ],
            [
             0.5,
             "#f7f7f7"
            ],
            [
             0.6,
             "#e6f5d0"
            ],
            [
             0.7,
             "#b8e186"
            ],
            [
             0.8,
             "#7fbc41"
            ],
            [
             0.9,
             "#4d9221"
            ],
            [
             1,
             "#276419"
            ]
           ],
           "sequential": [
            [
             0,
             "#0d0887"
            ],
            [
             0.1111111111111111,
             "#46039f"
            ],
            [
             0.2222222222222222,
             "#7201a8"
            ],
            [
             0.3333333333333333,
             "#9c179e"
            ],
            [
             0.4444444444444444,
             "#bd3786"
            ],
            [
             0.5555555555555556,
             "#d8576b"
            ],
            [
             0.6666666666666666,
             "#ed7953"
            ],
            [
             0.7777777777777778,
             "#fb9f3a"
            ],
            [
             0.8888888888888888,
             "#fdca26"
            ],
            [
             1,
             "#f0f921"
            ]
           ],
           "sequentialminus": [
            [
             0,
             "#0d0887"
            ],
            [
             0.1111111111111111,
             "#46039f"
            ],
            [
             0.2222222222222222,
             "#7201a8"
            ],
            [
             0.3333333333333333,
             "#9c179e"
            ],
            [
             0.4444444444444444,
             "#bd3786"
            ],
            [
             0.5555555555555556,
             "#d8576b"
            ],
            [
             0.6666666666666666,
             "#ed7953"
            ],
            [
             0.7777777777777778,
             "#fb9f3a"
            ],
            [
             0.8888888888888888,
             "#fdca26"
            ],
            [
             1,
             "#f0f921"
            ]
           ]
          },
          "colorway": [
           "#636efa",
           "#EF553B",
           "#00cc96",
           "#ab63fa",
           "#FFA15A",
           "#19d3f3",
           "#FF6692",
           "#B6E880",
           "#FF97FF",
           "#FECB52"
          ],
          "font": {
           "color": "#2a3f5f"
          },
          "geo": {
           "bgcolor": "white",
           "lakecolor": "white",
           "landcolor": "#E5ECF6",
           "showlakes": true,
           "showland": true,
           "subunitcolor": "white"
          },
          "hoverlabel": {
           "align": "left"
          },
          "hovermode": "closest",
          "mapbox": {
           "style": "light"
          },
          "paper_bgcolor": "white",
          "plot_bgcolor": "#E5ECF6",
          "polar": {
           "angularaxis": {
            "gridcolor": "white",
            "linecolor": "white",
            "ticks": ""
           },
           "bgcolor": "#E5ECF6",
           "radialaxis": {
            "gridcolor": "white",
            "linecolor": "white",
            "ticks": ""
           }
          },
          "scene": {
           "xaxis": {
            "backgroundcolor": "#E5ECF6",
            "gridcolor": "white",
            "gridwidth": 2,
            "linecolor": "white",
            "showbackground": true,
            "ticks": "",
            "zerolinecolor": "white"
           },
           "yaxis": {
            "backgroundcolor": "#E5ECF6",
            "gridcolor": "white",
            "gridwidth": 2,
            "linecolor": "white",
            "showbackground": true,
            "ticks": "",
            "zerolinecolor": "white"
           },
           "zaxis": {
            "backgroundcolor": "#E5ECF6",
            "gridcolor": "white",
            "gridwidth": 2,
            "linecolor": "white",
            "showbackground": true,
            "ticks": "",
            "zerolinecolor": "white"
           }
          },
          "shapedefaults": {
           "line": {
            "color": "#2a3f5f"
           }
          },
          "ternary": {
           "aaxis": {
            "gridcolor": "white",
            "linecolor": "white",
            "ticks": ""
           },
           "baxis": {
            "gridcolor": "white",
            "linecolor": "white",
            "ticks": ""
           },
           "bgcolor": "#E5ECF6",
           "caxis": {
            "gridcolor": "white",
            "linecolor": "white",
            "ticks": ""
           }
          },
          "title": {
           "x": 0.05
          },
          "xaxis": {
           "automargin": true,
           "gridcolor": "white",
           "linecolor": "white",
           "ticks": "",
           "title": {
            "standoff": 15
           },
           "zerolinecolor": "white",
           "zerolinewidth": 2
          },
          "yaxis": {
           "automargin": true,
           "gridcolor": "white",
           "linecolor": "white",
           "ticks": "",
           "title": {
            "standoff": 15
           },
           "zerolinecolor": "white",
           "zerolinewidth": 2
          }
         }
        },
        "xaxis": {
         "title": {
          "text": "Real"
         }
        },
        "yaxis": {
         "scaleanchor": "x",
         "scaleratio": 1,
         "title": {
          "text": "Imaginary"
         }
        }
       }
      }
     },
     "metadata": {},
     "output_type": "display_data"
    }
   ],
   "source": [
    "z = 2 + 1j\n",
    "plot_complex(z)"
   ]
  },
  {
   "cell_type": "markdown",
   "metadata": {
    "id": "spPME9dPQcnu"
   },
   "source": [
    "And for displaying several complex numbers:"
   ]
  },
  {
   "cell_type": "code",
   "execution_count": 29,
   "metadata": {
    "colab": {
     "base_uri": "https://localhost:8080/",
     "height": 542
    },
    "executionInfo": {
     "elapsed": 14,
     "status": "ok",
     "timestamp": 1702317970078,
     "user": {
      "displayName": "PEDRO RAMONEDA FRANCO",
      "userId": "10653804143244385715"
     },
     "user_tz": -60
    },
    "id": "kCCRfQrhQhGU",
    "outputId": "dc3f16fe-5ec1-402e-eeab-1d019fcdbce6"
   },
   "outputs": [
    {
     "data": {
      "application/vnd.plotly.v1+json": {
       "config": {
        "plotlyServerURL": "https://plot.ly"
       },
       "data": [
        {
         "line": {
          "color": "rgb(150,150,150)",
          "dash": "dash",
          "shape": "linear"
         },
         "mode": "lines",
         "name": "unit circle",
         "type": "scatter",
         "x": {
          "bdata": "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",
          "dtype": "f8"
         },
         "y": {
          "bdata": "AAAAAAAAAABONnLm8sJ5Pw1f+IHRwok/5EINZPNRkz+dtRTxS8KZP/GmbNswGaA/GHhnAhJRoz/K8aAVwYimP+QJwb01wKk/VigHpGf3rD+p4i85JxewP+ECvelwsrE/3qpuuYxNsz9pgH9+dui0P/rjqw8qg7Y/ULo8RKMduD+sNBL03be5P3uXrvfVUbs/Xv9AKIfrvD9qJLBf7YS+P82NUjwCD8A/IgtLJ2TbwD+5j+hemqfBP4lrw9Gic8I/cJXqbns/wz9xBuklIgvEP68Ty+aU1sQ/HccjotGhxT/LNhJJ1mzGP9HaRs2gN8c/ueEIIS8CyD9hgzs3f8zIP1VSYwOPlsk/doureVxgyj/8Y+uO5SnLP7pVqzgo88s/jWkqbSK8zD//f2Mj0oTNP/uXElM1Tc4/iRO69EkVzz+R+qcBDt3PP8ad/bk/UtA/BXVUI8610D+UvcA6MRnRP9f/mv5nfNE//62ubXHf0T/SvjyHTELSP0ZH/kr4pNI/3hInuXMH0z/UOmjSvWnTP+278pfVy9M/Gwt6C7ot1D+tqDYvao/UP0Wy6AXl8NQ/WHPakilS1T9O9OLZNrPVP0OIaN8LFNY/PFljqKd01j/y8l86CdXWPyDMgZsvNdc/N86F0hmV1z+a28TmxvTXPzZUNuA1VNg/hphyx2Wz2D/1irWlVRLZP5UP4YQEcdk/Lop/b3HP2T+QWsZwmy3aPzBXmJSBi9o/BEaI5yLp2j+NU9t2fkbbPx6Ii1CTo9s/TztKg2AA3D+EhYIe5VzcP6WvWzIgudw/66C7zxAV3T+xSkkItnDdP2ISb+4OzN0/YzldlRon3j/8QgwR2IHeP0BYP3ZG3N4/3amG2mQ23z/mz0FUMpDfP3Qnovqt6d8/HZfWcmsh4D/wbR8X1k3gP5z8BXcWeuA/qTrSHyym4D8d3DqfFtLgP8R5ZoPV/eA/XLjsWmgp4T+Qbte0zlThP9DJoyAIgOE/AHJDLhSr4T/5qx1u8tXhP9R6EHGiAOI/BsBxyCMr4j9GWhAGdlXiPzRDNbyYf+I/yKukfYup4j+CF5/dTdPiP1R24m/f/OI/RT2ryD8m4z/afbV8bk/jPyH8PSFreOM/ekMDTDWh4z8NukaTzMnjP+6yzY0w8uM/6X7i0mAa5D/ze1X6XELkP0YjfpwkauQ/HBY8UreR5D8DKfi0FLnkP9ZtpV484OQ/TTzC6S0H5T8hOVnx6C3lP8ZbAhFtVOU/uvLj5Ll65T9cprMJz6DlP1Z6txysxuU/jc3Gu1Ds5T+YWEuFvBHmP8EqQhjvNuY/gKU8FOhb5j96dmEZp4DmP/2PbcgrpeY/9R+1wnXJ5j9ehSSqhO3mPx5EQSFYEec/Y/cqy+805z9qQpxLS1jnP6y/60Zqe+c/h+4MYkye5z9EH5FC8cDnP4VdqI5Y4+c/IVki7YEF6D9STW8FbSfoP1bmoH8ZSeg/XCVrBIdq6D/UQiU9tYvoPx6PytOjrOg/gVH7clLN6D+Gpf3FwO3oP5ZWvnjuDek/9LnRN9st6T8Ch3Swhk3pP8qtjJDwbOk/2SuqhhiM6T9f3wdC/qrpP5JYjHKhyek/U6nKyAHo6T8YMwP2HgbqPxVzJKz4I+o/l8zLnY5B6j+qUUZ+4F7qP+qJkQHue+o/lDdc3LaY6j/CGgfEOrXqP+SypW550eo/Yv7+knLt6j9sOI7oJQnrPwKVgyeTJOs/GPvECLo/6z/rvO5FmlrrP35OVJkzdes/NvoAvoWP6z+hk7hvkKnrP1wo+GpTw+s/E6/2bM7c6z+otKUzAfbrP3MHsn3rDuw/k2CECo0n7D9uC0Ka5T/sPzGLze30V+w/cz7Hxrpv7D/lAI7nNofsPxzLPxNpnuw/YVC6DVG17D+cmpub7svsPz+kQoJB4uw/SvDPh0n47D9QICZzBg7tP4iI6gt4I+0/5sGFGp447T85OiRoeE3tP0vCtr4GYu0/Chrz6Eh27T+telSyPortP9geHOfnne0/x8hRVESx7T9nRsTHU8TtP4LzCRAW1+0/zTmB/Irp7T8BD1FdsvvtP+FwaQOMDe4/Qt+DwBcf7j/90yNnVTDuP9o4l8pEQe4/ddv2vuVR7j8H3yYZOGLuPy8s1647cu4/n96DVvCB7j+8sHXnVZHuPy1lwjlsoO4/Vi5NJjOv7j+8E8eGqr3uP1VVrzXSy+4/wcxTDqrZ7j9uTNHsMefuP538E65p9O4/VbbXL1EB7z84XKhQ6A3vPzox4u8uGu8/RC2y7SQm7z+uTxYryjHvP6jv3YkePe8/dwqq7CFI7z+jj+021FLvP/Gq7Uw1Xe8/TwzCE0Vn7z+PLVVxA3HvPwmWZExweu8/FxyBjIuD7z9tJA8aVYzvP0vfRt7MlO8/joM0w/Kc7z+Wh7izxqTvPwzYh5tIrO8/fAwsZ3iz7z/JmQMEVrrvP3oCQmDhwO8/4gTwahrH7z8Ux+sTAc3vP70A6UuV0u8/yCJxBNfX7z/ffOMvxtzvP75gdcFi4e8/XUMyrazl7z/u2/vno+nvP65AimdI7e8/kQFsIprw7z+2QAYQmfPvP77IlChF9u8/5iAqZZ747z8En6+/pPrvP0h35TJY/O8/4cliurj97z9irpVSxv7vPws9w/iA/+8/15UHq+j/7z9o5VVo/f/vP7lneDC//+8/smgQBC7/7z99QpbkSf7vP7xZWdQS/e8/ixeA1oj77z9V4Qfvq/nvP3sOxSJ89+8/z9tid/n07z/jXGPzI/LvPyxrH5777u8/75LGf4Dr7z8R/l6hsufvP6pcxQyS4+8/esuszB7f7z8puJ7sWNrvP2HD+nhA1e8/tqD2ftXP7z9q9J0MGMrvPwUv0jAIxO8/vmZK+6W97z++LpN88bbvPztsDsbqr+8/Zinz6ZGo7z81Zk375qDvP/7m/Q3qmO8/8wC6NpuQ7z9vZAuL+ofvPyPlTyEIf+8/GkC5EMR17z+W30xxLmzvP8uc41tHYu8/dH8p6g5Y7z9Ke502hU3vP0srkVyqQu8/8YooeH437z83rVmmASzvP4px7AQ0IO8/jzZ6shUU7z/Vim3OpgfvP1/bAXnn+u4/GCBD09ft7j8jhg3/d+DuPxkYDR/I0u4/I2S9VsjE7j/8H2nKeLbuP97KKZ/Zp+4/Vk3n+uqY7j/4llcErYnuPxA6/uIfeu4/JgUsv0Nq7j+Cmv7BGFruP5EFYBWfSe4/Pk4G5NY47j82CnNZwCfuPybs8qFbFu4/1lCd6qgE7j9QylNhqPLtP+aowTRa4O0/PIJblL7N7T87tl6w1brtPwjy0Lmfp+0/7LB/4hyU7T80u/9cTYDtPxWjrFwxbO0/iD+oFclX7T8eJdq8FEPtP+Ac74cULu0/J5lYrcgY7T90KExkMQPtP1bmwuRO7ew/Sep4ZyHX7D+otOwlqcDsP5iZXlrmqew/CyrQP9mS7D/ImgMSgnvsP3opew3hY+w/1n94b/ZL7D/TFPx1wjPsP+OLxF9FG+w/UBJObH8C7D+lutHbcOnrPzXWRO8Z0Os/q0xY6Hq26z/I8XcJlJzrPyrZyZVlgus/Oagt0e9n6z835jsAM03rP2ZKRWgvMus/VghST+UW6z9cGiH8VPvqPyiKJ7Z+3+o/hbePxWLD6j9CnThzAafqP0wUtQhbiuo/7hRL0G9t6j9J9vIUQFDqP/arViLMMuo/3gHRRBQV6j9M1mzJGPfpPzBS5P3Z2Ok/nR+gMFi66T+Hnrawk5vpP8AX682MfOk/I+6s2ENd6T8azhYiuT3pP1nb7fvsHek/4NyguN/96D9KZ0erkd3oP2QFoScDveg/EF8UgjSc6D91Xq4PJnvoP4RTISbYWeg/0RXEG0s46D+6JJFHfxboP+zFJQF19Oc/SCLBoCzS5z8RYUN/pq/nP4rBLPbijOc/87KcX+Jp5z/f6lAWpUbnP/55pHUrI+c/Qt+O2XX/5j92GaOehNvmP0K3DiJYt+Y/luWYwfCS5j+XfKHbTm7mP+wKIM9ySeY/j9+i+1wk5j8gEk7BDf/lP5SJ2oCF2eU/ggGVm8Sz5T/iDV1zy43lP1QdpGqaZ+U/6Hls5DFB5T91SEhEkhrlP3WGWO678+Q/cQZMR6/M5D/+al60bKXkP08gV5v0feQ/WFSIYkdW5D+F7c1wZS7kPyWAjC1PBuQ/S0KwAAXe4z9u/qtSh7XjP6MEeIzWjOM/fBqRF/Nj4z+Mafdd3TrjP6FsLcqVEeM/ods2xxzo4j8blpfAcr7iP5OMUiKYlOI/eqjoWI1q4j/mslfRUkDiPwE6GfnoFeI/SHUhPlDr4T9rKN4OicDhPxKFNdqTleE/WguFD3Fq4T8kaaAeIT/hPyZY0HekE+E/3HrRi/vn4D9AONPLJrzgP1+WdqkmkOA/xhPNlvtj4D/Kf1cGpjfgP7HRBGsmC+A/df1hcPq83z84nkfDVWPfP45jH7dfCd8/ch4hNRmv3j9bNlUng1TeP4NKknie+d0/GNF6FGye3T9gtHrn7ELdP9LtxN4h59w/Jh9R6AuL3D9xKdnyqy7cPzzC1u0C0ts/sAaByRF12z/yDMp22RfbP1hzXOdauto/Ae6YDZdc2j930pPcjv7ZP4ShEkhDoNk/PY+JRLVB2T9FCRnH5eLYP1U7i8XVg9g/CpJRNoYk2D8EPIIQ+MTXP1ap1UssZdc/UQmk4CMF1z+xxuLH36TWP04CIvtgRNY/+AuKdKjj1T8P2tgut4LVP3Z/XyWOIdU/CaD/Uy7A1D+m4yi3mF7UP79n1kvO/NM/gC+MD9Ca0z+dklQAnzjTP7iqvRw81tI/d7/WY6hz0j9NsS3V5BDSP+5izHDyrdE/qyE2N9JK0T9IDGUphefQP+Z4x0gMhNA/m1k9l2gg0D/nPysuNnnPP4U+F5ZJsc4/1tuIbA3pzT8Zi5i4gyDNP0zEJ4KuV8w/bsDb0Y+Oyz+/MxixKcXKPxkG+il++8k/UwlSR48xyT8jrp8UX2fIP6C2C57vnMc/pOdi8ELSxj8/uBAZWwfGP5b/GSY6PMU/O6EXJuJwxD/+NzEoVaXDP1W/FzyV2cI/WDsAcqQNwj9tX57ahEHBP6IzH4c4dcA/lXFHEoNRvz9nF3flQ7i9P0ENv6y3Hrw/qMTYjeKEuj+MqzqvyOq4P+1pDThuULc/sB0hUNe1tT/DlOIfCBu0P6eFUNAEgLI/h8bwitHksD/VBYvz5JKuP1DghI7XW6s/YAGEPIMkqD9hLPVT8OykP85m5ysntaE/ga/sN2D6nD8YUWn4JoqWP7DFLEqzGZA/JDhtvStSgz/jvZQ/+8JpP663lD/7wmm/lzZtvStSg7/pxCxKsxmQv1FQafgmipa/u67sN2D6nL9rZucrJ7Whvz4s9VPw7KS//QCEPIMkqL/t34SO11urv3IFi/Pkkq6/VcbwitHksL91hVDQBICyv5GU4h8IG7S/fx0hUNe1tb+8aQ04blC3v1urOq/I6ri/d8TYjeKEur8QDb+stx68vzYXd+VDuL2/g3FHEoNRv7+JMx+HOHXAv1RfntqEQcG/QDsAcqQNwr88vxc8ldnCv+U3MShVpcO/IqEXJuJwxL9+/xkmOjzFvye4EBlbB8a/jOdi8ELSxr+Htgue75zHvwuunxRfZ8i/OglSR48xyb8ABvopfvvJv6YzGLEpxcq/VcDb0Y+Oy780xCeCrlfMvwGLmLiDIM2/vtuIbA3pzb9tPheWSbHOv88/Ky42ec+/j1k9l2gg0L/aeMdIDITQvzwMZSmF59C/nyE2N9JK0b/iYsxw8q3Rv0GxLdXkENK/a7/WY6hz0r+sqr0cPNbSv5GSVACfONO/dC+MD9Ca07+zZ9ZLzvzTv5vjKLeYXtS//Z//Uy7A1L9qf18ljiHVvwTa2C63gtW/7AuKdKjj1b9CAiL7YETWv63G4sffpNa/RQmk4CMF179KqdVLLGXXv/k7ghD4xNe//5FRNoYk2L9JO4vF1YPYvzkJGcfl4ti/Mo+JRLVB2b95oRJIQ6DZv2zSk9yO/tm/9u2YDZdc2r9Nc1znWrrav+cMynbZF9u/rAaByRF1278wwtbtAtLbv2Yp2fKrLty/Gx9R6AuL3L/H7cTeIefcv1W0eufsQt2/DdF6FGye3b94SpJ4nvndv1A2VSeDVN6/Zx4hNRmv3r+DYx+3Xwnfvy6eR8NVY9+/av1hcPq837+s0QRrJgvgv8V/VwamN+C/wRPNlvtj4L9alnapJpDgvzo408smvOC/1nrRi/vn4L8gWNB3pBPhvx5poB4hP+G/VQuFD3Fq4b8MhTXak5Xhv2Yo3g6JwOG/Q3UhPlDr4b/8ORn56BXiv+GyV9FSQOK/dajoWI1q4r+OjFIimJTivxaWl8ByvuK/nNs2xxzo4r+cbC3KlRHjv4dp913dOuO/dxqRF/Nj47+eBHiM1ozjv2n+q1KHteO/RkKwAAXe478hgIwtTwbkv4PtzXBlLuS/U1SIYkdW5L9LIFeb9H3kv/lqXrRspeS/bAZMR6/M5L9whljuu/Pkv3FISESSGuW/5Hls5DFB5b9PHaRqmmflv90NXXPLjeW/fQGVm8Sz5b+QidqAhdnlvxwSTsEN/+W/jt+i+1wk5r/nCiDPcknmv5J8odtObua/kuWYwfCS5r89tw4iWLfmv3IZo56E2+a/Pt+O2XX/5r/6eaR1KyPnv9vqUBalRue/7rKcX+Jp57+GwSz24oznvw1hQ3+mr+e/RCLBoCzS57/rxSUBdfTnv7YkkUd/Fui/zRXEG0s46L99UyEm2Fnov3Berg8me+i/CV8UgjSc6L9hBaEnA73ov0lnR6uR3ei/3NyguN/96L9X2+377B3pvxbOFiK5Pem/Iu6s2ENd6b+8F+vNjHzpv4aetrCTm+m/lx+gMFi66b8sUuT92djpv0bWbMkY9+m/2gHRRBQV6r/wq1YizDLqv0X28hRAUOq/7RRL0G9t6r9IFLUIW4rqv0GdOHMBp+q/grePxWLD6r8niie2ft/qv1gaIfxU++q/UwhST+UW679gSkVoLzLrvzTmOwAzTeu/NKgt0e9n678n2cmVZYLrv8PxdwmUnOu/qUxY6Hq267801kTvGdDrv6K60dtw6eu/ThJObH8C7L/gi8RfRRvsv9IU/HXCM+y/0394b/ZL7L93KXsN4WPsv8OaAxKCe+y/CSrQP9mS7L+TmV5a5qnsv6W07CWpwOy/Rep4ZyHX7L9T5sLkTu3sv3MoTGQxA+2/JJlYrcgY7b/fHO+HFC7tvxsl2rwUQ+2/hj+oFclX7b8So6xcMWztvzK7/1xNgO2/6bB/4hyU7b8H8tC5n6ftvze2XrDVuu2/OYJblL7N7b/iqME0WuDtv03KU2Go8u2/1VCd6qgE7r8k7PKhWxbuvzYKc1nAJ+6/O04G5NY47r+PBWAVn0nuv3+a/sEYWu6/JQUsv0Nq7r8NOv7iH3ruv/eWVwStie6/U03n+uqY7r/dyimf2afuv/sfacp4tu6/IWS9VsjE7r8ZGA0fyNLuvyGGDf934O6/FiBD09ft7r9d2wF55/ruv9SKbc6mB++/jTZ6shUU77+JcewENCDvvzWtWaYBLO+/8IooeH43779JK5FcqkLvv0h7nTaFTe+/dH8p6g5Y77/JnONbR2Lvv5bfTHEubO+/GUC5EMR1778j5U8hCH/vv21kC4v6h++/8gC6NpuQ77/95v0N6pjvvzRmTfvmoO+/ZSnz6ZGo7786bA7G6q/vv7wuk3zxtu+/vWZK+6W9778FL9IwCMTvv2r0nQwYyu+/taD2ftXP779gw/p4QNXvvym4nuxY2u+/ecuszB7f77+pXMUMkuPvvxD+XqGy5++/75LGf4Dr778rax+e++7vv+NcY/Mj8u+/zttid/n07796DsUifPfvv1XhB++r+e+/ixeA1oj777+8WVnUEv3vv3xCluRJ/u+/smgQBC7/77+5Z3gwv//vv2jlVWj9/++/15UHq+j/778LPcP4gP/vv2KulVLG/u+/4cliurj9779Jd+UyWPzvvwSfr7+k+u+/5yAqZZ7477++yJQoRfbvv7ZABhCZ8++/kQFsIprw77+uQIpnSO3vv+7b++ej6e+/XkMyrazl77+/YHXBYuHvv+B84y/G3O+/ySJxBNfX77+9AOlLldLvvxXH6xMBze+/4gTwahrH7797AkJg4cDvv8qZAwRWuu+/fAwsZ3iz778N2IebSKzvv5aHuLPGpO+/j4M0w/Kc779M30bezJTvv24kDxpVjO+/GByBjIuD778LlmRMcHrvv5AtVXEDce+/UQzCE0Vn77/zqu1MNV3vv6OP7TbUUu+/eQqq7CFI77+o792JHj3vv7BPFivKMe+/RS2y7SQm7788MeLvLhrvvzlcqFDoDe+/V7bXL1EB77+e/BOuafTuv3FM0ewx5+6/w8xTDqrZ7r9YVa810svuv74Tx4aqve6/Vy5NJjOv7r8vZcI5bKDuv7ywdedVke6/od6DVvCB7r8wLNeuO3LuvwrfJhk4Yu6/dtv2vuVR7r/dOJfKREHuv/7TI2dVMO6/Rt+DwBcf7r/kcGkDjA3uvwQPUV2y++2/zzmB/Irp7b+D8wkQFtftv2pGxMdTxO2/yMhRVESx7b/cHhzn553tv696VLI+iu2/Dhrz6Eh27b9Nwra+BmLtvzw6JGh4Te2/6MGFGp447b+MiOoLeCPtv1IgJnMGDu2/TvDPh0n47L9CpEKCQeLsv52am5vuy+y/ZFC6DVG17L8dyz8TaZ7sv+kAjuc2h+y/dT7Hxrpv7L81i83t9Ffsv3ALQprlP+y/l2CECo0n7L91B7J96w7sv620pTMB9uu/Fq/2bM7c679hKPhqU8Prv6STuG+Qqeu/N/oAvoWP67+BTlSZM3Xrv+287kWaWuu/HPvECLo/678FlYMnkyTrv3E4juglCeu/ZP7+knLt6r/psqVuedHqv8UaB8Q6teq/mTdc3LaY6r/tiZEB7nvqv6tRRn7gXuq/mszLnY5B6r8WcySs+CPqvxwzA/YeBuq/VanKyAHo6b+WWIxyocnpv2HfB0L+qum/3SuqhhiM6b/MrYyQ8GzpvweHdLCGTem/97nRN9st6b+bVr547g3pv4ql/cXA7ei/g1H7clLN6L8ij8rTo6zov9ZCJT21i+i/YCVrBIdq6L9Z5qB/GUnov1hNbwVtJ+i/I1ki7YEF6L+LXaiOWOPnv0cfkULxwOe/je4MYkye57+vv+tGanvnv3BCnEtLWOe/aPcqy+80578fREEhWBHnv2KFJKqE7ea/+B+1wnXJ5r8CkG3IK6Xmv3x2YRmngOa/hqU8FOhb5r/EKkIY7zbmv55YS4W8Eea/kM3Gu1Ds5b9cerccrMblv2CmswnPoOW/wfLj5Ll65b/KWwIRbVTlvyI5WfHoLeW/UjzC6S0H5b/YbaVePODkvwgp+LQUueS/HxY8UreR5L9NI36cJGrkv/Z7VfpcQuS/8H7i0mAa5L/yss2NMPLjvxS6RpPMyeO/fkMDTDWh478p/D0ha3jjv999tXxuT+O/Rz2ryD8m479ZduJv3/ziv4UXn91N0+K/zqukfYup4r83QzW8mH/iv0xaEAZ2VeK/CcBxyCMr4r/behBxogDiv/2rHW7y1eG/CHJDLhSr4b/VyaMgCIDhv5hu17TOVOG/YrjsWmgp4b/GeWaD1f3gvyLcOp8W0uC/rDrSHyym4L+i/AV3Fnrgv/JtHxfWTeC/JJfWcmsh4L97J6L6renfv/TPQVQykN+/5qmG2mQ2379QWD92RtzevwZDDBHYgd6/dTldlRon3r9tEm/uDszdv7VKSQi2cN2/96C7zxAV3b+rr1syILncv5CFgh7lXNy/VTtKg2AA3L8tiItQk6Pbv5RT23Z+Rtu/FEaI5yLp2r86V5iUgYvav6FaxnCbLdq/OIp/b3HP2b+nD+GEBHHZvwCLtaVVEtm/i5hyx2Wz2L9DVDbgNVTYv6DbxObG9Ne/Rc6F0hmV178nzIGbLzXXvwLzXzoJ1da/RFljqKd01r9UiGjfCxTWv1j04tk2s9W/aXPakilS1b9QsugF5fDUv8CoNi9qj9S/Jwt6C7ot1L/yu/KX1cvTv+A6aNK9adO/5BInuXMH079UR/5K+KTSv9q+PIdMQtK/Dq6ubXHf0b/f/5r+Z3zRv6W9wDoxGdG/D3VUI8610L/Ynf25P1LQv6f6pwEO3c+/kBO69EkVz78UmBJTNU3OvwqAYyPShM2/qGkqbSK8zL/GVas4KPPLvxpk647lKcu/hYureVxgyr91UmMDj5bJv3ODOzd/zMi/2+EIIS8CyL/l2kbNoDfHv/A2EknWbMa/M8cjotGhxb+4E8vmlNbEv4sG6SUiC8S/e5Xqbns/w7+la8PRonPCv8aP6F6ap8G/QQtLJ2TbwL/djVI8Ag/Av6sksF/thL6/gv9AKIfrvL/Cl6731VG7v9U0EvTdt7m/m7o8RKMduL8o5KsPKoO2v3uAf3526LS/EatuuYxNs7/3Ar3pcLKxv+LiLzknF7C/jSgHpGf3rL9gCsG9NcCpvwryoBXBiKa/nXhnAhJRo787p2zbMBmgv7u2FPFLwpm/jUMNZPNRk79yYfiB0cKJv0A5cubywnm/B1wUMyamsbw=",
          "dtype": "f8"
         }
        },
        {
         "marker": {
          "color": "#1f77b4"
         },
         "mode": "markers",
         "name": "z1",
         "type": "scatter",
         "x": [
          2
         ],
         "y": [
          1
         ]
        },
        {
         "marker": {
          "color": "#ff7f0e"
         },
         "mode": "markers",
         "name": "z2",
         "type": "scatter",
         "x": [
          0
         ],
         "y": [
          1
         ]
        },
        {
         "marker": {
          "color": "#2ca02c"
         },
         "mode": "markers",
         "name": "z3",
         "type": "scatter",
         "x": [
          0
         ],
         "y": [
          -0.5
         ]
        }
       ],
       "layout": {
        "annotations": [
         {
          "arrowcolor": "#1f77b4",
          "arrowhead": 3,
          "arrowwidth": 1.5,
          "ax": 0,
          "axref": "x",
          "ay": 0,
          "ayref": "y",
          "showarrow": true,
          "text": "",
          "x": 2,
          "y": 1
         },
         {
          "arrowcolor": "#ff7f0e",
          "arrowhead": 3,
          "arrowwidth": 1.5,
          "ax": 0,
          "axref": "x",
          "ay": 0,
          "ayref": "y",
          "showarrow": true,
          "text": "",
          "x": 0,
          "y": 1
         },
         {
          "arrowcolor": "#2ca02c",
          "arrowhead": 3,
          "arrowwidth": 1.5,
          "ax": 0,
          "axref": "x",
          "ay": 0,
          "ayref": "y",
          "showarrow": true,
          "text": "",
          "x": 0,
          "y": -0.5
         }
        ],
        "template": {
         "data": {
          "bar": [
           {
            "error_x": {
             "color": "#2a3f5f"
            },
            "error_y": {
             "color": "#2a3f5f"
            },
            "marker": {
             "line": {
              "color": "#E5ECF6",
              "width": 0.5
             },
             "pattern": {
              "fillmode": "overlay",
              "size": 10,
              "solidity": 0.2
             }
            },
            "type": "bar"
           }
          ],
          "barpolar": [
           {
            "marker": {
             "line": {
              "color": "#E5ECF6",
              "width": 0.5
             },
             "pattern": {
              "fillmode": "overlay",
              "size": 10,
              "solidity": 0.2
             }
            },
            "type": "barpolar"
           }
          ],
          "carpet": [
           {
            "aaxis": {
             "endlinecolor": "#2a3f5f",
             "gridcolor": "white",
             "linecolor": "white",
             "minorgridcolor": "white",
             "startlinecolor": "#2a3f5f"
            },
            "baxis": {
             "endlinecolor": "#2a3f5f",
             "gridcolor": "white",
             "linecolor": "white",
             "minorgridcolor": "white",
             "startlinecolor": "#2a3f5f"
            },
            "type": "carpet"
           }
          ],
          "choropleth": [
           {
            "colorbar": {
             "outlinewidth": 0,
             "ticks": ""
            },
            "type": "choropleth"
           }
          ],
          "contour": [
           {
            "colorbar": {
             "outlinewidth": 0,
             "ticks": ""
            },
            "colorscale": [
             [
              0,
              "#0d0887"
             ],
             [
              0.1111111111111111,
              "#46039f"
             ],
             [
              0.2222222222222222,
              "#7201a8"
             ],
             [
              0.3333333333333333,
              "#9c179e"
             ],
             [
              0.4444444444444444,
              "#bd3786"
             ],
             [
              0.5555555555555556,
              "#d8576b"
             ],
             [
              0.6666666666666666,
              "#ed7953"
             ],
             [
              0.7777777777777778,
              "#fb9f3a"
             ],
             [
              0.8888888888888888,
              "#fdca26"
             ],
             [
              1,
              "#f0f921"
             ]
            ],
            "type": "contour"
           }
          ],
          "contourcarpet": [
           {
            "colorbar": {
             "outlinewidth": 0,
             "ticks": ""
            },
            "type": "contourcarpet"
           }
          ],
          "heatmap": [
           {
            "colorbar": {
             "outlinewidth": 0,
             "ticks": ""
            },
            "colorscale": [
             [
              0,
              "#0d0887"
             ],
             [
              0.1111111111111111,
              "#46039f"
             ],
             [
              0.2222222222222222,
              "#7201a8"
             ],
             [
              0.3333333333333333,
              "#9c179e"
             ],
             [
              0.4444444444444444,
              "#bd3786"
             ],
             [
              0.5555555555555556,
              "#d8576b"
             ],
             [
              0.6666666666666666,
              "#ed7953"
             ],
             [
              0.7777777777777778,
              "#fb9f3a"
             ],
             [
              0.8888888888888888,
              "#fdca26"
             ],
             [
              1,
              "#f0f921"
             ]
            ],
            "type": "heatmap"
           }
          ],
          "histogram": [
           {
            "marker": {
             "pattern": {
              "fillmode": "overlay",
              "size": 10,
              "solidity": 0.2
             }
            },
            "type": "histogram"
           }
          ],
          "histogram2d": [
           {
            "colorbar": {
             "outlinewidth": 0,
             "ticks": ""
            },
            "colorscale": [
             [
              0,
              "#0d0887"
             ],
             [
              0.1111111111111111,
              "#46039f"
             ],
             [
              0.2222222222222222,
              "#7201a8"
             ],
             [
              0.3333333333333333,
              "#9c179e"
             ],
             [
              0.4444444444444444,
              "#bd3786"
             ],
             [
              0.5555555555555556,
              "#d8576b"
             ],
             [
              0.6666666666666666,
              "#ed7953"
             ],
             [
              0.7777777777777778,
              "#fb9f3a"
             ],
             [
              0.8888888888888888,
              "#fdca26"
             ],
             [
              1,
              "#f0f921"
             ]
            ],
            "type": "histogram2d"
           }
          ],
          "histogram2dcontour": [
           {
            "colorbar": {
             "outlinewidth": 0,
             "ticks": ""
            },
            "colorscale": [
             [
              0,
              "#0d0887"
             ],
             [
              0.1111111111111111,
              "#46039f"
             ],
             [
              0.2222222222222222,
              "#7201a8"
             ],
             [
              0.3333333333333333,
              "#9c179e"
             ],
             [
              0.4444444444444444,
              "#bd3786"
             ],
             [
              0.5555555555555556,
              "#d8576b"
             ],
             [
              0.6666666666666666,
              "#ed7953"
             ],
             [
              0.7777777777777778,
              "#fb9f3a"
             ],
             [
              0.8888888888888888,
              "#fdca26"
             ],
             [
              1,
              "#f0f921"
             ]
            ],
            "type": "histogram2dcontour"
           }
          ],
          "mesh3d": [
           {
            "colorbar": {
             "outlinewidth": 0,
             "ticks": ""
            },
            "type": "mesh3d"
           }
          ],
          "parcoords": [
           {
            "line": {
             "colorbar": {
              "outlinewidth": 0,
              "ticks": ""
             }
            },
            "type": "parcoords"
           }
          ],
          "pie": [
           {
            "automargin": true,
            "type": "pie"
           }
          ],
          "scatter": [
           {
            "fillpattern": {
             "fillmode": "overlay",
             "size": 10,
             "solidity": 0.2
            },
            "type": "scatter"
           }
          ],
          "scatter3d": [
           {
            "line": {
             "colorbar": {
              "outlinewidth": 0,
              "ticks": ""
             }
            },
            "marker": {
             "colorbar": {
              "outlinewidth": 0,
              "ticks": ""
             }
            },
            "type": "scatter3d"
           }
          ],
          "scattercarpet": [
           {
            "marker": {
             "colorbar": {
              "outlinewidth": 0,
              "ticks": ""
             }
            },
            "type": "scattercarpet"
           }
          ],
          "scattergeo": [
           {
            "marker": {
             "colorbar": {
              "outlinewidth": 0,
              "ticks": ""
             }
            },
            "type": "scattergeo"
           }
          ],
          "scattergl": [
           {
            "marker": {
             "colorbar": {
              "outlinewidth": 0,
              "ticks": ""
             }
            },
            "type": "scattergl"
           }
          ],
          "scattermap": [
           {
            "marker": {
             "colorbar": {
              "outlinewidth": 0,
              "ticks": ""
             }
            },
            "type": "scattermap"
           }
          ],
          "scattermapbox": [
           {
            "marker": {
             "colorbar": {
              "outlinewidth": 0,
              "ticks": ""
             }
            },
            "type": "scattermapbox"
           }
          ],
          "scatterpolar": [
           {
            "marker": {
             "colorbar": {
              "outlinewidth": 0,
              "ticks": ""
             }
            },
            "type": "scatterpolar"
           }
          ],
          "scatterpolargl": [
           {
            "marker": {
             "colorbar": {
              "outlinewidth": 0,
              "ticks": ""
             }
            },
            "type": "scatterpolargl"
           }
          ],
          "scatterternary": [
           {
            "marker": {
             "colorbar": {
              "outlinewidth": 0,
              "ticks": ""
             }
            },
            "type": "scatterternary"
           }
          ],
          "surface": [
           {
            "colorbar": {
             "outlinewidth": 0,
             "ticks": ""
            },
            "colorscale": [
             [
              0,
              "#0d0887"
             ],
             [
              0.1111111111111111,
              "#46039f"
             ],
             [
              0.2222222222222222,
              "#7201a8"
             ],
             [
              0.3333333333333333,
              "#9c179e"
             ],
             [
              0.4444444444444444,
              "#bd3786"
             ],
             [
              0.5555555555555556,
              "#d8576b"
             ],
             [
              0.6666666666666666,
              "#ed7953"
             ],
             [
              0.7777777777777778,
              "#fb9f3a"
             ],
             [
              0.8888888888888888,
              "#fdca26"
             ],
             [
              1,
              "#f0f921"
             ]
            ],
            "type": "surface"
           }
          ],
          "table": [
           {
            "cells": {
             "fill": {
              "color": "#EBF0F8"
             },
             "line": {
              "color": "white"
             }
            },
            "header": {
             "fill": {
              "color": "#C8D4E3"
             },
             "line": {
              "color": "white"
             }
            },
            "type": "table"
           }
          ]
         },
         "layout": {
          "annotationdefaults": {
           "arrowcolor": "#2a3f5f",
           "arrowhead": 0,
           "arrowwidth": 1
          },
          "autotypenumbers": "strict",
          "coloraxis": {
           "colorbar": {
            "outlinewidth": 0,
            "ticks": ""
           }
          },
          "colorscale": {
           "diverging": [
            [
             0,
             "#8e0152"
            ],
            [
             0.1,
             "#c51b7d"
            ],
            [
             0.2,
             "#de77ae"
            ],
            [
             0.3,
             "#f1b6da"
            ],
            [
             0.4,
             "#fde0ef"
            ],
            [
             0.5,
             "#f7f7f7"
            ],
            [
             0.6,
             "#e6f5d0"
            ],
            [
             0.7,
             "#b8e186"
            ],
            [
             0.8,
             "#7fbc41"
            ],
            [
             0.9,
             "#4d9221"
            ],
            [
             1,
             "#276419"
            ]
           ],
           "sequential": [
            [
             0,
             "#0d0887"
            ],
            [
             0.1111111111111111,
             "#46039f"
            ],
            [
             0.2222222222222222,
             "#7201a8"
            ],
            [
             0.3333333333333333,
             "#9c179e"
            ],
            [
             0.4444444444444444,
             "#bd3786"
            ],
            [
             0.5555555555555556,
             "#d8576b"
            ],
            [
             0.6666666666666666,
             "#ed7953"
            ],
            [
             0.7777777777777778,
             "#fb9f3a"
            ],
            [
             0.8888888888888888,
             "#fdca26"
            ],
            [
             1,
             "#f0f921"
            ]
           ],
           "sequentialminus": [
            [
             0,
             "#0d0887"
            ],
            [
             0.1111111111111111,
             "#46039f"
            ],
            [
             0.2222222222222222,
             "#7201a8"
            ],
            [
             0.3333333333333333,
             "#9c179e"
            ],
            [
             0.4444444444444444,
             "#bd3786"
            ],
            [
             0.5555555555555556,
             "#d8576b"
            ],
            [
             0.6666666666666666,
             "#ed7953"
            ],
            [
             0.7777777777777778,
             "#fb9f3a"
            ],
            [
             0.8888888888888888,
             "#fdca26"
            ],
            [
             1,
             "#f0f921"
            ]
           ]
          },
          "colorway": [
           "#636efa",
           "#EF553B",
           "#00cc96",
           "#ab63fa",
           "#FFA15A",
           "#19d3f3",
           "#FF6692",
           "#B6E880",
           "#FF97FF",
           "#FECB52"
          ],
          "font": {
           "color": "#2a3f5f"
          },
          "geo": {
           "bgcolor": "white",
           "lakecolor": "white",
           "landcolor": "#E5ECF6",
           "showlakes": true,
           "showland": true,
           "subunitcolor": "white"
          },
          "hoverlabel": {
           "align": "left"
          },
          "hovermode": "closest",
          "mapbox": {
           "style": "light"
          },
          "paper_bgcolor": "white",
          "plot_bgcolor": "#E5ECF6",
          "polar": {
           "angularaxis": {
            "gridcolor": "white",
            "linecolor": "white",
            "ticks": ""
           },
           "bgcolor": "#E5ECF6",
           "radialaxis": {
            "gridcolor": "white",
            "linecolor": "white",
            "ticks": ""
           }
          },
          "scene": {
           "xaxis": {
            "backgroundcolor": "#E5ECF6",
            "gridcolor": "white",
            "gridwidth": 2,
            "linecolor": "white",
            "showbackground": true,
            "ticks": "",
            "zerolinecolor": "white"
           },
           "yaxis": {
            "backgroundcolor": "#E5ECF6",
            "gridcolor": "white",
            "gridwidth": 2,
            "linecolor": "white",
            "showbackground": true,
            "ticks": "",
            "zerolinecolor": "white"
           },
           "zaxis": {
            "backgroundcolor": "#E5ECF6",
            "gridcolor": "white",
            "gridwidth": 2,
            "linecolor": "white",
            "showbackground": true,
            "ticks": "",
            "zerolinecolor": "white"
           }
          },
          "shapedefaults": {
           "line": {
            "color": "#2a3f5f"
           }
          },
          "ternary": {
           "aaxis": {
            "gridcolor": "white",
            "linecolor": "white",
            "ticks": ""
           },
           "baxis": {
            "gridcolor": "white",
            "linecolor": "white",
            "ticks": ""
           },
           "bgcolor": "#E5ECF6",
           "caxis": {
            "gridcolor": "white",
            "linecolor": "white",
            "ticks": ""
           }
          },
          "title": {
           "x": 0.05
          },
          "xaxis": {
           "automargin": true,
           "gridcolor": "white",
           "linecolor": "white",
           "ticks": "",
           "title": {
            "standoff": 15
           },
           "zerolinecolor": "white",
           "zerolinewidth": 2
          },
          "yaxis": {
           "automargin": true,
           "gridcolor": "white",
           "linecolor": "white",
           "ticks": "",
           "title": {
            "standoff": 15
           },
           "zerolinecolor": "white",
           "zerolinewidth": 2
          }
         }
        },
        "xaxis": {
         "title": {
          "text": "Real"
         }
        },
        "yaxis": {
         "scaleanchor": "x",
         "scaleratio": 1,
         "title": {
          "text": "Imaginary"
         }
        }
       }
      }
     },
     "metadata": {},
     "output_type": "display_data"
    }
   ],
   "source": [
    "z1 = 2 + 1j\n",
    "z2 = 1j\n",
    "z3 = -0.5j\n",
    "plot_complex([z1, z2, z3], name=['z1', 'z2', 'z3'])"
   ]
  },
  {
   "cell_type": "markdown",
   "metadata": {
    "id": "aOfR7uusRA13"
   },
   "source": [
    "# **Exercises**\n",
    "\n",
    "**1. Complex Numbers**\n",
    "\n",
    "To exercise your understanding of complex numbers, do the following:\n",
    "\n",
    "1.1. Define $z_1 = -1+j0.3$ and $z_2 = 0.8+j0.7$. Enter these in Python and plot them as points and vectors in the complex plane."
   ]
  },
  {
   "cell_type": "code",
   "execution_count": 30,
   "metadata": {
    "executionInfo": {
     "elapsed": 13,
     "status": "ok",
     "timestamp": 1702317970078,
     "user": {
      "displayName": "PEDRO RAMONEDA FRANCO",
      "userId": "10653804143244385715"
     },
     "user_tz": -60
    },
    "id": "oGUfC_09QFHN"
   },
   "outputs": [
    {
     "data": {
      "application/vnd.plotly.v1+json": {
       "config": {
        "plotlyServerURL": "https://plot.ly"
       },
       "data": [
        {
         "line": {
          "color": "rgb(150,150,150)",
          "dash": "dash",
          "shape": "linear"
         },
         "mode": "lines",
         "name": "unit circle",
         "type": "scatter",
         "x": {
          "bdata": "AAAAAAAA8D8gvWaF1v/vP318BhZa/+8/99Qhs4r+7z8MadJeaP3vP2fhCBzz++8/QuWM7ir67z+XEP3aD/jvPyjozuah9e8/VstOGOHy7z/O4592ze/vPwwTvAln7O8/pt1z2q3o7z94VG7yoeTvP537KFxD4O8/O6/3IpLb7z8mhgRTjtbvP1myT/k30e8/P1+vI4/L7z/Wjc/gk8XvP6buMUBGv+8/irktUqa47z9bg+8ntLHvP2IRedNvqu8/riqhZ9mi7z8+ZxP48JrvP//8T5m2ku8/qIqrYCqK7z9w4E5kTIHvP5jGNrsceO8/1sEzfZtu7z+V1enCyGTvPxhE0KWkWu8/cUwxQC9Q7z9e5imtaEXvP/p7qQhROu8/VaFxb+gu7z/myRX/LiPvP+D7+tUkF+8/ZYFXE8oK7z+alzLXHv7uP6QbZEIj8e4/fjWUdtfj7j+7ADuWO9buPyszoMRPyO4/YcHaJRS67j8ngdDeiKvuP9bJNRWunO4/lhKN74ON7j+JjiaVCn7uP+DGHy5Cbu4/3DJj4ype7j+9zafexE3uP5qqcEoQPe4/MIYMUg0s7j+YVpUhvBruP/jY7+UcCe4/GR3LzC/37T//DqAE9eTtP2/+sLxs0u0/ZCQJJZe/7T+MJnxudKztP6uYpcoEme0/Bnzoa0iF7T++vG6FP3HtPzKtKEvqXO0/Vn/M8UhI7T8NvNWuWzPtP4K4hLgiHu0/hAneRZ4I7T/k9KmOzvLsP9vgc8uz3Ow/cMGJNU7G7D/rg/sGnq/sP1B4mnqjmOw/4Lj4y16B7D+xj2g30GnsP0ba+/n3Uew/QmuDUdY57D8kao58ayHsPxyxabq3COw/7ygfS7vv6z/xInVvdtbrPx+x7WjpvOs/RfzFeRSj6z9GmPXk94jrP4jWLe6Tbus/bhbZ2ehT6z/+Exrt9jjrP6w0y22+Hes/N9J9oj8C6z/Gg3nSeubqPxJlu0Vwyuo/z1v1RCCu6j8xW40Zi5HqP6elnA2xdOo/xAzva5JX6j9TLwKALzrqP6a1BJaIHOo/GYzV+p3+6T/DGwP8b+DpP2yByuf+wek/uMIWDUuj6T+RAYC7VITpP8qtSkMcZek/ELVm9aFF6T8SsW4j5iXpP/UTpx/pBek/DlP9PKvl6D/pDwfPLMXoP5E/ASpupOg/OVDPom+D6D8lTfqOMWLoP+gAsES0QOg/AhbCGvge6D/JNaVo/fznP7AlcIbE2uc/6+LazE245z9vvD2VmZXnP1NrkDmocuc/kylpFHpP5z89x/uADyznP/29GNtoCOc/FkMsf4bk5j/PVz3KaMDmP0LY7BkQnOY/p4h0zHx35j8JIaZAr1LmP3tX6tWnLeY/vug/7GYI5j9knzrk7OLlP3RZAh86veU/igxS/k6X5T93yHbkK3HlP3S4TjTRSuU/ySJIUT8k5T8PZ2Cfdv3kP/T6IoN31uQ/mWWoYUKv5D92OZWg14fkP94MGaY3YOQ/FnHt2GI45D8D6FSgWRDkP3nYGWQc6OM/L4GNjKu/4z9H6oaCB5fjP4jVYa8wbuM/Pq39fCdF4z+9cbxV7BvjP5elgaR/8uI/iTix1OHI4j8NcS5SE5/iP6jUWokUdeI/+g4V5+VK4j9517fYhyDiP/XVGMz69eE/3IWHLz/L4T9DGMxxVaDhP65UJgI+deE/rHhMUPlJ4T9AFmrMhx7hPw3xHufp8uA/Zdp9ESDH4D8hjAu9KpvgP1yCvVsKb+A/BNT4X79C4D9GCpE8ShbgP8btjclW098/0RKPmMZ53z+YRlXO5B/fP+nV41Oyxd4/bTsPEzBr3j9qwXr2XhDeP4Ehluk/td0/UiKb2NNZ3T8cM4uwG/7cP0QFLV8Yotw/ASQK08pF3D/aiWz7M+nbP2c0XMhUjNs/AbacKi4v2z+cxaoTwdHaP7zMuXUOdNo/j3OxQxcW2j9EKytx3LfZP3G2b/JeWdk/2K90vJ/62D9YD9rEn5vYPyqt5wFgPNg/ZsOKauHc1z/tbVP2JH3XP4kocp0rHdc/lEu1WPa81j/shoYhhlzWP2Jb6PHb+9U/lpJzxPia1T9MtVSU3TnVP1OASV2L2NQ/0FeeGwN31D8+uSvMRRXUP+urU2xUs9M/GTD/+S9R0z+7rJtz2e7SP+5bGNhRjNI//rXjJpop0j9C2+hfs8bRP6f8jIOeY9E//MKsklwA0T8UtZmO7pzQP6acF3lVOdA/R9SzqCSrzz+CLgJGTOPOPx4RMNAjG84/z9siTq1SzT+rQ4rH6onMP94P20TewMs/jdRJz4n3yj91q8Vw7y3KP/nq8jMRZMk/L9slJPGZyD8qaV1Nkc/HP43YPbzzBMc/jHMLfho6xj8KOaWgB2/FP2eJfzK9o8Q/uNGeQj3Ywz96NZLgiQzDP/A2bhylQMI/Fl7HBpF0wT9x3qywT6jAP6l2RlfGt78/h9Y9E5sevj8W9P25IYW8P5hTD3Fe67o/+yW6XlVRuT8rh/upCre3PwO6enqCHLY/DmN++MCBtD90weFMyuayP17mCaGiS7E/69W1PZxgrz/FSlrhoSmsPwC4hIJe8qg/N/B1d9q6pT/kbhYXHoOiP5FzwXFjlp4/qIGXaTsmmD9ceWrG1LWRP10zMHOAioY/ip3U0zlScz/Emd1V/cJZv7fdP+bTGYC/MOA1ZB77jL8X0E7gDu6Uv7XjHExYXpu/OpU5Yi3noL+QyXvMAh+kv+6fGQ2kVqe/yuPezAiOqr9eOjS1KMWtv0pgGrj9fbC/PNNhVDwZsr/75FAFTLSzv/6mQaEoT7W/95cS/83ptr8QbTH2N4S4v9bZpV5iHrq/OVYcEUm4u7+K4/Dm51G9vwvPObo6676/eDnpsh5CwL+m+rLidQ7Bv3gCvdqg2sG/B8q8iZ2mwr8pyN/eaXLDv47M0MkDPsS/Slm9OmkJxb81+1oimNTFv+Sg7HGOn8a/NvBHG0pqx79GmtoQyTTIvxWur0UJ/8i/Xel0rQjJyb/UB4A8xZLKv8cQ1Oc8XMu/6aImpW0lzL84PuVqVe7Mv1CMOjDyts2/g6YT7UF/zr8lWiWaQkfPv2S1eBh5B9C/MenlVSdr0L+t/+8Cq87QvyUImx0DMtG/4AZcpC6V0b/AkBuWLPjRv7plOPL7WtK/LAqKuJu90r/rXmPpCiDTvww4lYVIgtO/hPJwjlPk079ZCMsFK0bUv5Gj/e3Np9S/wS/rSTsJ1b9E6gAdcmrVv+1wOWtxy9W/fU8fOTgs1r9yi8+LxYzWv3gu/GgY7da/S8/u1i9N178WGYvcCq3Xv0BRUYGoDNi/ndtgzQds2L8VvXrJJ8vYv5UcBH8HKtm/XMII+KWI2b+dlT0/AufZv2kYA2AbRdq/y+FnZvCi2r9GFitfgADbv2bevlfKXdu/jttKXs2627/1mq6BiBfcv7wGhNH6c9y/KNUhXiPQ3L/v9Z04ASzdv5j9z3KTh92/6o5TH9ni3b84wopR0T3ev/6KoB17mN6/HBuLmNXy3r81RA7Y30zfv+rWvfKYpt+//P//////37+o0QcMiizgv19a/ynqWOC/ZUfc5h+F4L+JIwLQKrHgv0eAQ3MK3eC/yh3jXr4I4b/IEZUhRjThvy3tf0qhX+G/vuA9ac+K4b9t4N0N0LXhv47F5Mii4OG/229OK0cL4r9C5Y7GvDXiv3ZwkywDYOK/Ur7D7xmK4r/u+QKjALTiv4XnsNm23eK/DP6qJzwH47+Kf00hkDDjvxmQdFuyWeO/ukt9a6KC47+52kbnX6vjv9OEM2Xq0+O/BcMpfEH847/+T5XDZCTkv0I3aNNTTOS/5uIbRA505L/2J7Kuk5vkv3NRtqzjwuS/8Ck+2P3p5L/IA+vL4RDlv+m/6iKPN+W/LdP4eAVe5b9WSl9qRITlv4LM95NLquW/O5wskxrQ5b8Gl/kFsfXlv30z7YoOG+a/8X0pwTJA5r+EE2VIHWXmv8ob7MDNiea/4UChy0Ou5r8Epv4Jf9Lmv53cFh5/9ua/vteVqkMa578R3sFSzD3nv0Z6fLoYYee/2mlDhiiE579UijFb+6bnv+jE/96Qyee/gvgFuOjr57804juNAg7ovwUEOgbeL+i/H4o6y3pR6L9aLhqF2HLovyYaWd32k+i/wcYbftW06L/a2ysSdNXov2IM+UTS9ei/4fGZwu8V6b/r5cw3zDXpv/7Z+FFnVem/pC0uv8B06b/Zgicu2JPpv76QSk6tsum/jPSozz/R6b/PAAFjj+/pv9uKvrmbDeq/gLb7hWQr6r8AwIF66UjqvzrEyUoqZuq/B4f9qiaD6r/hN/hP3p/qv6Y0R+9QvOq/oMoqP37Y6r+v9Zb2ZfTqv6odNM0HEOu/69Ffe2Mr678Dgy26eEbrv5g6Z0NHYeu/aVGO0c576792I9wfD5brv07CQuoHsOu/fqVt7bjJ678SWcLmIePrv1EqYZRC/Ou/d9IltRoV7L+YH6gIqi3sv5ebPE/wRey/ODH1Se1d7L9Dz6G6oHXsv7wJ0WMKjey/K7nQCCqk7L/4l65t/7rsv9LdOFeK0ey/I9n+isrn7L+RhlHPv/3sv4omROtpE+2/1tCspsgo7b8yBiXK2z3tv+s/Ch+jUu2/hn1+bx5n7b9j0GiGTXvtv2TldS8wj+2/k4wYN8ai7b/KPopqD7btv0+hy5cLye2/eQeljbrb7b9A8qYbHO7tv9KNKhIwAO6/Gy1SQvYR7r9Gwwl+biPuvy9bB5iYNO6/y4zLY3RF7r+F8KG1AVbuv4uQoWJAZu6/DFitQDB27r9kgHQm0YXuvzn8cusile6/hODxZyWk7r+Cywd12LLuv5tJmew7we6/JjhZqU/P7r8hJsmGE93uv8myOWGH6u6/IurKFav37r9an2yCfgTvvxrF3oUBEe+/u8Ox/zMd779ZzUbQFSnvv9Av0NimNO+/k6RR++Y/779qnqAa1krvvxGVZBp0Ve+/sE4X38Bf7782JwVOvGnvv5lVTU1mc++/4S7iw758778kZ4mZxYXvv1JQ3LZ6ju+/3hZIBd6W779F/A1v757vv26PQ9+upu+/4eLSQRyu77/ZwHqDN7XvvzLdzpEAvO+/KQU4W3fC77/0TPTOm8jvvzg7F91tzu+/UPKJdu3T779oVwuNGtnvv3Q3MBP13e+/+Wlj/Hzi77+r8eU8subvv+Aaz8mU6u+/3JcMmSTu77/kmmKhYfHvvznua9pL9O+/0wmaPOP277/+JjXBJ/nvv8BRXGIZ+++/GXgFG7j8778Ud/3mA/7vv6Yl6ML8/u+/a11ArKL/778oAVih9f/vvygBWKH1/++/a11ArKL/77+mJejC/P7vvxR3/eYD/u+/GngFG7j877/BUVxiGfvvv/8mNcEn+e+/1AmaPOP277857mvaS/Tvv+WaYqFh8e+/3JcMmSTu77/hGs/JlOrvv6vx5Tyy5u+/+Wlj/Hzi7790NzAT9d3vv2hXC40a2e+/UPKJdu3T7785Oxfdbc7vv/RM9M6byO+/KQU4W3fC778z3c6RALzvv9rAeoM3te+/4uLSQRyu779vj0Pfrqbvv0b8DW/vnu+/3xZIBd6W779TUNy2eo7vvyVniZnFhe+/4i7iw75877+aVU1NZnPvvzgnBU68ae+/sU4X38Bf778SlWQadFXvv2ueoBrWSu+/lKRR++Y/77/SL9DYpjTvv1vNRtAVKe+/vMOx/zMd778bxd6FARHvv1ufbIJ+BO+/JOrKFav37r/Lsjlhh+ruvyImyYYT3e6/KDhZqU/P7r+dSZnsO8Huv4PLB3XYsu6/heDxZyWk7r87/HLrIpXuv2aAdCbRhe6/DlitQDB27r+NkKFiQGbuv4fwobUBVu6/zYzLY3RF7r8xWweYmDTuv0nDCX5uI+6/HS1SQvYR7r/UjSoSMADuv0Hyphsc7u2/eweljbrb7b9SocuXC8ntv8w+imoPtu2/lYwYN8ai7b9m5XUvMI/tv2XQaIZNe+2/iX1+bx5n7b/uPwofo1LtvzUGJcrbPe2/2dCspsgo7b+NJkTraRPtv5SGUc+//ey/JNn+isrn7L/V3ThXitHsv/uXrm3/uuy/LrnQCCqk7L+/CdFjCo3sv0bPobqgdey/OzH1Se1d7L+amzxP8EXsv5sfqAiqLey/etIltRoV7L9UKmGUQvzrvxVZwuYh4+u/gKVt7bjJ679RwkLqB7Drv3kj3B8Pluu/bFGO0c5767+cOmdDR2HrvweDLbp4Ruu/7tFfe2Mr67+tHTTNBxDrv7L1lvZl9Oq/pMoqP37Y6r+qNEfvULzqv+Q3+E/en+q/Cof9qiaD6r89xMlKKmbqvwPAgXrpSOq/hLb7hWQr6r/fir65mw3qv9MAAWOP7+m/kPSozz/R6b/CkEpOrbLpv92CJy7Yk+m/qC0uv8B06b8C2vhRZ1Xpv+/lzDfMNem/5fGZwu8V6b9mDPlE0vXov9vbKxJ01ei/xcYbftW06L8qGlnd9pPov18uGoXYcui/I4o6y3pR6L8JBDoG3i/ovzjiO40CDui/hvgFuOjr57/sxP/ekMnnv1iKMVv7pue/3mlDhiiE579Keny6GGHnvxXewVLMPee/wNeVqkMa57+h3BYef/bmvwmm/gl/0ua/5UChy0Ou5r/PG+zAzYnmv4kTZUgdZea/9n0pwTJA5r+BM+2KDhvmvwqX+QWx9eW/QJwskxrQ5b+HzPeTS6rlv1tKX2pEhOW/MtP4eAVe5b/rv+oijzflv8wD68vhEOW/9Sk+2P3p5L97Ubas48Lkv/snsq6Tm+S/7uIbRA505L9HN2jTU0zkvwBQlcNkJOS/CsMpfEH847/VhDNl6tPjv77aRudfq+O/vEt9a6KC478ekHRbslnjv4x/TSGQMOO/FP6qJzwH47+K57DZtt3iv/b5AqMAtOK/V77D7xmK4r9/cJMsA2Div0fljsa8NeK/3W9OK0cL4r+TxeTIouDhv2/g3Q3QteG/w+A9ac+K4b8v7X9KoV/hv80RlSFGNOG/zx3jXr4I4b9QgENzCt3gv44jAtAqseC/bkfc5h+F4L9kWv8p6ljgv7DRBwyKLOC/BAAAAAAA4L/t1r3ymKbfvz9EDtjfTN+/IBuLmNXy3r8Ji6Ade5jevzzCilHRPd6/9I5TH9ni3b+j/c9yk4fdvwH2nTgBLN2/M9UhXiPQ3L/OBoTR+nPcvwCbroGIF9y/oNtKXs26279x3r5Xyl3bv0oWK1+AANu/1+FnZvCi2r9tGANgG0Xav6yVPT8C59m/ZMII+KWI2b+kHAR/ByrZvx29eskny9i/rNtgzQds2L9IUVGBqAzYvykZi9wKrde/V8/u1i9N17+LLvxoGO3Wv36Lz4vFjNa/gU8fOTgs1r/5cDlrccvVv0jqAB1yatW/0S/rSTsJ1b+Yo/3tzafUv2gIywUrRtS/jPJwjlPk078cOJWFSILTv/NeY+kKINO/QAqKuJu90r/GZTjy+1rSv8SQG5Ys+NG/7AZcpC6V0b8pCJsdAzLRv7n/7wKrztC/OenlVSdr0L90tXgYeQfQvzZaJZpCR8+/oqYT7UF/zr9gjDow8rbNv1g+5WpV7sy/+qImpW0lzL/vENTnPFzLv+0HgDzFksq/Zel0rQjJyb8urq9FCf/Iv06a2hDJNMi/T/BHG0pqx7/0oOxxjp/Gv1b7WiKY1MW/W1m9OmkJxb+vzNDJAz7EvzrI395pcsO/J8q8iZ2mwr+QAr3aoNrBv8/6suJ1DsG/kDnpsh5CwL8dzzm6Ouu+v7vj8ObnUb2/SlYcEUm4u78H2qVeYh66vzJtMfY3hLi/OZgS/83ptr8gp0GhKE+1vzzlUAVMtLO/XtNhVDwZsr+LYBq4/X2wv8E6NLUoxa2/beTezAiOqr9RoBkNpFanv7TJe8wCH6S/nZU5Yi3noL/74xxMWF6bv97QTuAO7pS/PeE1ZB77jL/E3z/m0xmAvy2i3VX9wlm/cJnU0zlScz9QMjBzgIqGP1Z4asbUtZE/4YCXaTsmmD9LcsFxY5aeP4FuFhceg6I/FPB1d9q6pT+dt4SCXvKoP6JKWuGhKaw/iNW1PZxgrz895gmhokuxPzPB4UzK5rI/7WJ++MCBtD/BuXp6ghy2PwqH+6kKt7c/uSW6XlVRuT9nUw9xXuu6P8Tz/bkhhbw/VtY9E5sevj+XdkZXxre/P1jerLBPqMA/DV7HBpF0wT/PNm4cpUDCP2k1kuCJDMM/l9GeQj3Ywz9XiX8yvaPEP+k4paAHb8U/fHMLfho6xj9s2D288wTHPxFpXU2Rz8c/BtslJPGZyD/h6vIzEWTJP2yrxXDvLco/dNRJz4n3yj/VD9tE3sDLP4tDisfqicw/v9siTq1SzT/+EDDQIxvOP3EuAkZM484/J9SzqCSrzz+enBd5VTnQPwG1mY7unNA/8MKsklwA0T+T/IyDnmPRPzbb6F+zxtE/+rXjJpop0j/iWxjYUYzSP7asm3PZ7tI/CTD/+S9R0z/jq1NsVLPTPy+5K8xFFdQ/yFeeGwN31D9DgEldi9jUP0S1VJTdOdU/g5JzxPia1T9WW+jx2/vVP9iGhiGGXNY/iEu1WPa81j+FKHKdKx3XP+JtU/Ykfdc/YsOKauHc1z8brecBYDzYP1EP2sSfm9g/ya90vJ/62D9qtm/yXlnZPzUrK3Hct9k/h3OxQxcW2j+pzLl1DnTaP5DFqhPB0do/7rWcKi4v2z9cNFzIVIzbP9aJbPsz6ds/9SMK08pF3D9ABS1fGKLcPw0zi7Ab/tw/SyKb2NNZ3T9yIZbpP7XdP2PBevZeEN4/XzsPEzBr3j/h1eNTssXeP4ZGVc7kH98/xhKPmMZ53z+17Y3JVtPfP0EKkTxKFuA/AtT4X79C4D9Xgr1bCm/gPx6MC70qm+A/Xtp9ESDH4D8J8R7n6fLgPzkWasyHHuE/qXhMUPlJ4T+mVCYCPnXhPz8YzHFVoOE/1YWHLz/L4T/w1RjM+vXhP3fXt9iHIOI/9Q4V5+VK4j+m1FqJFHXiPwdxLlITn+I/hzix1OHI4j+RpYGkf/LiP7lxvFXsG+M/OK39fCdF4z+F1WGvMG7jP0DqhoIHl+M/K4GNjKu/4z9y2BlkHOjjP/7nVKBZEOQ/FHHt2GI45D/ZDBmmN2DkP3Q5laDXh+Q/k2WoYUKv5D/x+iKDd9bkPwlnYJ92/eQ/xiJIUT8k5T9uuE400UrlP3TIduQrceU/gwxS/k6X5T9xWQIfOr3lP12fOuTs4uU/uug/7GYI5j96V+rVpy3mPwQhpkCvUuY/pYh0zHx35j892OwZEJzmP8xXPcpowOY/EEMsf4bk5j/6vRjbaAjnPzjH+4APLOc/kClpFHpP5z9Ma5A5qHLnP2u8PZWZlec/5OLazE245z+sJXCGxNrnP8c1pWj9/Oc//hXCGvge6D/mALBEtEDoPyBN+o4xYug/N1DPom+D6D+MPwEqbqToP+YPB88sxeg/CVP9PKvl6D/yE6cf6QXpPwyxbiPmJek/DbVm9aFF6T/ErUpDHGXpP40BgLtUhOk/t8IWDUuj6T9ogcrn/sHpP8EbA/xv4Ok/FIzV+p3+6T+ktQSWiBzqP04vAoAvOuo/wQzva5JX6j+jpZwNsXTqPy5bjRmLkeo/ylv1RCCu6j8PZbtFcMrqP8CDedJ65uo/NNJ9oj8C6z+qNMttvh3rP/sTGu32OOs/bBbZ2ehT6z+E1i3uk27rP0SY9eT3iOs/QPzFeRSj6z8dse1o6bzrP+0idW921us/7CgfS7vv6z8XsWm6twjsPyFqjnxrIew/PWuDUdY57D9D2vv591HsP7CPaDfQaew/3bj4y16B7D9PeJp6o5jsP+iD+waer+w/b8GJNU7G7D/Y4HPLs9zsP+L0qY7O8uw/gAneRZ4I7T+AuIS4Ih7tPwm81a5bM+0/VH/M8UhI7T8urShL6lztP7u8boU/ce0/BXzoa0iF7T+pmKXKBJntP4smfG50rO0/YiQJJZe/7T9t/rC8bNLtP/wOoAT15O0/Fx3LzC/37T/12O/lHAnuP5dWlSG8Gu4/LYYMUg0s7j+YqnBKED3uP7rNp97ETe4/2jJj4ype7j/fxh8uQm7uP4eOJpUKfu4/lRKN74ON7j/UyTUVrpzuPyaB0N6Iq+4/XsHaJRS67j8qM6DET8juP7kAO5Y71u4/fTWUdtfj7j+iG2RCI/HuP5mXMtce/u4/ZIFXE8oK7z/f+/rVJBfvP+bJFf8uI+8/U6Fxb+gu7z/5e6kIUTrvP1zmKa1oRe8/cEwxQC9Q7z8WRNClpFrvP5TV6cLIZO8/1MEzfZtu7z+Xxja7HHjvP27gTmRMge8/p4qrYCqK7z/+/E+ZtpLvPz1nE/jwmu8/riqhZ9mi7z9hEXnTb6rvP1qD7ye0se8/ibktUqa47z+l7jFARr/vP9aNz+CTxe8/P1+vI4/L7z9Ysk/5N9HvPyaGBFOO1u8/Oq/3IpLb7z+d+yhcQ+DvP3hUbvKh5O8/pd1z2q3o7z8ME7wJZ+zvP87jn3bN7+8/VctOGOHy7z8o6M7mofXvP5cQ/doP+O8/QuWM7ir67z9n4Qgc8/vvPwtp0l5o/e8/99Qhs4r+7z99fAYWWv/vPyC9ZoXW/+8/AAAAAAAA8D8=",
          "dtype": "f8"
         },
         "y": {
          "bdata": "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",
          "dtype": "f8"
         }
        },
        {
         "marker": {
          "color": "#1f77b4"
         },
         "mode": "markers",
         "name": "z1",
         "type": "scatter",
         "x": [
          -1
         ],
         "y": [
          0.3
         ]
        },
        {
         "marker": {
          "color": "#ff7f0e"
         },
         "mode": "markers",
         "name": "z2",
         "type": "scatter",
         "x": [
          0.8
         ],
         "y": [
          0.7
         ]
        }
       ],
       "layout": {
        "annotations": [
         {
          "arrowcolor": "#1f77b4",
          "arrowhead": 3,
          "arrowwidth": 1.5,
          "ax": 0,
          "axref": "x",
          "ay": 0,
          "ayref": "y",
          "showarrow": true,
          "text": "",
          "x": -1,
          "y": 0.3
         },
         {
          "arrowcolor": "#ff7f0e",
          "arrowhead": 3,
          "arrowwidth": 1.5,
          "ax": 0,
          "axref": "x",
          "ay": 0,
          "ayref": "y",
          "showarrow": true,
          "text": "",
          "x": 0.8,
          "y": 0.7
         }
        ],
        "template": {
         "data": {
          "bar": [
           {
            "error_x": {
             "color": "#2a3f5f"
            },
            "error_y": {
             "color": "#2a3f5f"
            },
            "marker": {
             "line": {
              "color": "#E5ECF6",
              "width": 0.5
             },
             "pattern": {
              "fillmode": "overlay",
              "size": 10,
              "solidity": 0.2
             }
            },
            "type": "bar"
           }
          ],
          "barpolar": [
           {
            "marker": {
             "line": {
              "color": "#E5ECF6",
              "width": 0.5
             },
             "pattern": {
              "fillmode": "overlay",
              "size": 10,
              "solidity": 0.2
             }
            },
            "type": "barpolar"
           }
          ],
          "carpet": [
           {
            "aaxis": {
             "endlinecolor": "#2a3f5f",
             "gridcolor": "white",
             "linecolor": "white",
             "minorgridcolor": "white",
             "startlinecolor": "#2a3f5f"
            },
            "baxis": {
             "endlinecolor": "#2a3f5f",
             "gridcolor": "white",
             "linecolor": "white",
             "minorgridcolor": "white",
             "startlinecolor": "#2a3f5f"
            },
            "type": "carpet"
           }
          ],
          "choropleth": [
           {
            "colorbar": {
             "outlinewidth": 0,
             "ticks": ""
            },
            "type": "choropleth"
           }
          ],
          "contour": [
           {
            "colorbar": {
             "outlinewidth": 0,
             "ticks": ""
            },
            "colorscale": [
             [
              0,
              "#0d0887"
             ],
             [
              0.1111111111111111,
              "#46039f"
             ],
             [
              0.2222222222222222,
              "#7201a8"
             ],
             [
              0.3333333333333333,
              "#9c179e"
             ],
             [
              0.4444444444444444,
              "#bd3786"
             ],
             [
              0.5555555555555556,
              "#d8576b"
             ],
             [
              0.6666666666666666,
              "#ed7953"
             ],
             [
              0.7777777777777778,
              "#fb9f3a"
             ],
             [
              0.8888888888888888,
              "#fdca26"
             ],
             [
              1,
              "#f0f921"
             ]
            ],
            "type": "contour"
           }
          ],
          "contourcarpet": [
           {
            "colorbar": {
             "outlinewidth": 0,
             "ticks": ""
            },
            "type": "contourcarpet"
           }
          ],
          "heatmap": [
           {
            "colorbar": {
             "outlinewidth": 0,
             "ticks": ""
            },
            "colorscale": [
             [
              0,
              "#0d0887"
             ],
             [
              0.1111111111111111,
              "#46039f"
             ],
             [
              0.2222222222222222,
              "#7201a8"
             ],
             [
              0.3333333333333333,
              "#9c179e"
             ],
             [
              0.4444444444444444,
              "#bd3786"
             ],
             [
              0.5555555555555556,
              "#d8576b"
             ],
             [
              0.6666666666666666,
              "#ed7953"
             ],
             [
              0.7777777777777778,
              "#fb9f3a"
             ],
             [
              0.8888888888888888,
              "#fdca26"
             ],
             [
              1,
              "#f0f921"
             ]
            ],
            "type": "heatmap"
           }
          ],
          "histogram": [
           {
            "marker": {
             "pattern": {
              "fillmode": "overlay",
              "size": 10,
              "solidity": 0.2
             }
            },
            "type": "histogram"
           }
          ],
          "histogram2d": [
           {
            "colorbar": {
             "outlinewidth": 0,
             "ticks": ""
            },
            "colorscale": [
             [
              0,
              "#0d0887"
             ],
             [
              0.1111111111111111,
              "#46039f"
             ],
             [
              0.2222222222222222,
              "#7201a8"
             ],
             [
              0.3333333333333333,
              "#9c179e"
             ],
             [
              0.4444444444444444,
              "#bd3786"
             ],
             [
              0.5555555555555556,
              "#d8576b"
             ],
             [
              0.6666666666666666,
              "#ed7953"
             ],
             [
              0.7777777777777778,
              "#fb9f3a"
             ],
             [
              0.8888888888888888,
              "#fdca26"
             ],
             [
              1,
              "#f0f921"
             ]
            ],
            "type": "histogram2d"
           }
          ],
          "histogram2dcontour": [
           {
            "colorbar": {
             "outlinewidth": 0,
             "ticks": ""
            },
            "colorscale": [
             [
              0,
              "#0d0887"
             ],
             [
              0.1111111111111111,
              "#46039f"
             ],
             [
              0.2222222222222222,
              "#7201a8"
             ],
             [
              0.3333333333333333,
              "#9c179e"
             ],
             [
              0.4444444444444444,
              "#bd3786"
             ],
             [
              0.5555555555555556,
              "#d8576b"
             ],
             [
              0.6666666666666666,
              "#ed7953"
             ],
             [
              0.7777777777777778,
              "#fb9f3a"
             ],
             [
              0.8888888888888888,
              "#fdca26"
             ],
             [
              1,
              "#f0f921"
             ]
            ],
            "type": "histogram2dcontour"
           }
          ],
          "mesh3d": [
           {
            "colorbar": {
             "outlinewidth": 0,
             "ticks": ""
            },
            "type": "mesh3d"
           }
          ],
          "parcoords": [
           {
            "line": {
             "colorbar": {
              "outlinewidth": 0,
              "ticks": ""
             }
            },
            "type": "parcoords"
           }
          ],
          "pie": [
           {
            "automargin": true,
            "type": "pie"
           }
          ],
          "scatter": [
           {
            "fillpattern": {
             "fillmode": "overlay",
             "size": 10,
             "solidity": 0.2
            },
            "type": "scatter"
           }
          ],
          "scatter3d": [
           {
            "line": {
             "colorbar": {
              "outlinewidth": 0,
              "ticks": ""
             }
            },
            "marker": {
             "colorbar": {
              "outlinewidth": 0,
              "ticks": ""
             }
            },
            "type": "scatter3d"
           }
          ],
          "scattercarpet": [
           {
            "marker": {
             "colorbar": {
              "outlinewidth": 0,
              "ticks": ""
             }
            },
            "type": "scattercarpet"
           }
          ],
          "scattergeo": [
           {
            "marker": {
             "colorbar": {
              "outlinewidth": 0,
              "ticks": ""
             }
            },
            "type": "scattergeo"
           }
          ],
          "scattergl": [
           {
            "marker": {
             "colorbar": {
              "outlinewidth": 0,
              "ticks": ""
             }
            },
            "type": "scattergl"
           }
          ],
          "scattermap": [
           {
            "marker": {
             "colorbar": {
              "outlinewidth": 0,
              "ticks": ""
             }
            },
            "type": "scattermap"
           }
          ],
          "scattermapbox": [
           {
            "marker": {
             "colorbar": {
              "outlinewidth": 0,
              "ticks": ""
             }
            },
            "type": "scattermapbox"
           }
          ],
          "scatterpolar": [
           {
            "marker": {
             "colorbar": {
              "outlinewidth": 0,
              "ticks": ""
             }
            },
            "type": "scatterpolar"
           }
          ],
          "scatterpolargl": [
           {
            "marker": {
             "colorbar": {
              "outlinewidth": 0,
              "ticks": ""
             }
            },
            "type": "scatterpolargl"
           }
          ],
          "scatterternary": [
           {
            "marker": {
             "colorbar": {
              "outlinewidth": 0,
              "ticks": ""
             }
            },
            "type": "scatterternary"
           }
          ],
          "surface": [
           {
            "colorbar": {
             "outlinewidth": 0,
             "ticks": ""
            },
            "colorscale": [
             [
              0,
              "#0d0887"
             ],
             [
              0.1111111111111111,
              "#46039f"
             ],
             [
              0.2222222222222222,
              "#7201a8"
             ],
             [
              0.3333333333333333,
              "#9c179e"
             ],
             [
              0.4444444444444444,
              "#bd3786"
             ],
             [
              0.5555555555555556,
              "#d8576b"
             ],
             [
              0.6666666666666666,
              "#ed7953"
             ],
             [
              0.7777777777777778,
              "#fb9f3a"
             ],
             [
              0.8888888888888888,
              "#fdca26"
             ],
             [
              1,
              "#f0f921"
             ]
            ],
            "type": "surface"
           }
          ],
          "table": [
           {
            "cells": {
             "fill": {
              "color": "#EBF0F8"
             },
             "line": {
              "color": "white"
             }
            },
            "header": {
             "fill": {
              "color": "#C8D4E3"
             },
             "line": {
              "color": "white"
             }
            },
            "type": "table"
           }
          ]
         },
         "layout": {
          "annotationdefaults": {
           "arrowcolor": "#2a3f5f",
           "arrowhead": 0,
           "arrowwidth": 1
          },
          "autotypenumbers": "strict",
          "coloraxis": {
           "colorbar": {
            "outlinewidth": 0,
            "ticks": ""
           }
          },
          "colorscale": {
           "diverging": [
            [
             0,
             "#8e0152"
            ],
            [
             0.1,
             "#c51b7d"
            ],
            [
             0.2,
             "#de77ae"
            ],
            [
             0.3,
             "#f1b6da"
            ],
            [
             0.4,
             "#fde0ef"
            ],
            [
             0.5,
             "#f7f7f7"
            ],
            [
             0.6,
             "#e6f5d0"
            ],
            [
             0.7,
             "#b8e186"
            ],
            [
             0.8,
             "#7fbc41"
            ],
            [
             0.9,
             "#4d9221"
            ],
            [
             1,
             "#276419"
            ]
           ],
           "sequential": [
            [
             0,
             "#0d0887"
            ],
            [
             0.1111111111111111,
             "#46039f"
            ],
            [
             0.2222222222222222,
             "#7201a8"
            ],
            [
             0.3333333333333333,
             "#9c179e"
            ],
            [
             0.4444444444444444,
             "#bd3786"
            ],
            [
             0.5555555555555556,
             "#d8576b"
            ],
            [
             0.6666666666666666,
             "#ed7953"
            ],
            [
             0.7777777777777778,
             "#fb9f3a"
            ],
            [
             0.8888888888888888,
             "#fdca26"
            ],
            [
             1,
             "#f0f921"
            ]
           ],
           "sequentialminus": [
            [
             0,
             "#0d0887"
            ],
            [
             0.1111111111111111,
             "#46039f"
            ],
            [
             0.2222222222222222,
             "#7201a8"
            ],
            [
             0.3333333333333333,
             "#9c179e"
            ],
            [
             0.4444444444444444,
             "#bd3786"
            ],
            [
             0.5555555555555556,
             "#d8576b"
            ],
            [
             0.6666666666666666,
             "#ed7953"
            ],
            [
             0.7777777777777778,
             "#fb9f3a"
            ],
            [
             0.8888888888888888,
             "#fdca26"
            ],
            [
             1,
             "#f0f921"
            ]
           ]
          },
          "colorway": [
           "#636efa",
           "#EF553B",
           "#00cc96",
           "#ab63fa",
           "#FFA15A",
           "#19d3f3",
           "#FF6692",
           "#B6E880",
           "#FF97FF",
           "#FECB52"
          ],
          "font": {
           "color": "#2a3f5f"
          },
          "geo": {
           "bgcolor": "white",
           "lakecolor": "white",
           "landcolor": "#E5ECF6",
           "showlakes": true,
           "showland": true,
           "subunitcolor": "white"
          },
          "hoverlabel": {
           "align": "left"
          },
          "hovermode": "closest",
          "mapbox": {
           "style": "light"
          },
          "paper_bgcolor": "white",
          "plot_bgcolor": "#E5ECF6",
          "polar": {
           "angularaxis": {
            "gridcolor": "white",
            "linecolor": "white",
            "ticks": ""
           },
           "bgcolor": "#E5ECF6",
           "radialaxis": {
            "gridcolor": "white",
            "linecolor": "white",
            "ticks": ""
           }
          },
          "scene": {
           "xaxis": {
            "backgroundcolor": "#E5ECF6",
            "gridcolor": "white",
            "gridwidth": 2,
            "linecolor": "white",
            "showbackground": true,
            "ticks": "",
            "zerolinecolor": "white"
           },
           "yaxis": {
            "backgroundcolor": "#E5ECF6",
            "gridcolor": "white",
            "gridwidth": 2,
            "linecolor": "white",
            "showbackground": true,
            "ticks": "",
            "zerolinecolor": "white"
           },
           "zaxis": {
            "backgroundcolor": "#E5ECF6",
            "gridcolor": "white",
            "gridwidth": 2,
            "linecolor": "white",
            "showbackground": true,
            "ticks": "",
            "zerolinecolor": "white"
           }
          },
          "shapedefaults": {
           "line": {
            "color": "#2a3f5f"
           }
          },
          "ternary": {
           "aaxis": {
            "gridcolor": "white",
            "linecolor": "white",
            "ticks": ""
           },
           "baxis": {
            "gridcolor": "white",
            "linecolor": "white",
            "ticks": ""
           },
           "bgcolor": "#E5ECF6",
           "caxis": {
            "gridcolor": "white",
            "linecolor": "white",
            "ticks": ""
           }
          },
          "title": {
           "x": 0.05
          },
          "xaxis": {
           "automargin": true,
           "gridcolor": "white",
           "linecolor": "white",
           "ticks": "",
           "title": {
            "standoff": 15
           },
           "zerolinecolor": "white",
           "zerolinewidth": 2
          },
          "yaxis": {
           "automargin": true,
           "gridcolor": "white",
           "linecolor": "white",
           "ticks": "",
           "title": {
            "standoff": 15
           },
           "zerolinecolor": "white",
           "zerolinewidth": 2
          }
         }
        },
        "xaxis": {
         "title": {
          "text": "Real"
         }
        },
        "yaxis": {
         "scaleanchor": "x",
         "scaleratio": 1,
         "title": {
          "text": "Imaginary"
         }
        }
       }
      }
     },
     "metadata": {},
     "output_type": "display_data"
    }
   ],
   "source": [
    "z1 = -1 +0.3j\n",
    "z2 = 0.8 + 0.7j\n",
    "plot_complex([z1, z2], name=['z1', 'z2'])"
   ]
  },
  {
   "cell_type": "markdown",
   "metadata": {
    "id": "HI6f-fu7KD5a"
   },
   "source": [
    "1.2. Compute the conjugate z* and the inverse 1/z for both $z_1$ and $z_2$ and plot the results as vectors in the complex plane."
   ]
  },
  {
   "cell_type": "code",
   "execution_count": 31,
   "metadata": {
    "executionInfo": {
     "elapsed": 12,
     "status": "ok",
     "timestamp": 1702317970078,
     "user": {
      "displayName": "PEDRO RAMONEDA FRANCO",
      "userId": "10653804143244385715"
     },
     "user_tz": -60
    },
    "id": "Novsdl6JRX7z"
   },
   "outputs": [
    {
     "data": {
      "application/vnd.plotly.v1+json": {
       "config": {
        "plotlyServerURL": "https://plot.ly"
       },
       "data": [
        {
         "line": {
          "color": "rgb(150,150,150)",
          "dash": "dash",
          "shape": "linear"
         },
         "mode": "lines",
         "name": "unit circle",
         "type": "scatter",
         "x": {
          "bdata": "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",
          "dtype": "f8"
         },
         "y": {
          "bdata": "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",
          "dtype": "f8"
         }
        },
        {
         "marker": {
          "color": "#1f77b4"
         },
         "mode": "markers",
         "name": "z1",
         "type": "scatter",
         "x": [
          -1
         ],
         "y": [
          0.3
         ]
        },
        {
         "marker": {
          "color": "#ff7f0e"
         },
         "mode": "markers",
         "name": "z2",
         "type": "scatter",
         "x": [
          0.8
         ],
         "y": [
          0.7
         ]
        },
        {
         "marker": {
          "color": "#2ca02c"
         },
         "mode": "markers",
         "name": "z1_conj",
         "type": "scatter",
         "x": [
          -1
         ],
         "y": [
          -0.3
         ]
        },
        {
         "marker": {
          "color": "#d62728"
         },
         "mode": "markers",
         "name": "z2_conj",
         "type": "scatter",
         "x": [
          0.8
         ],
         "y": [
          -0.7
         ]
        },
        {
         "marker": {
          "color": "#9467bd"
         },
         "mode": "markers",
         "name": "z1_invers",
         "type": "scatter",
         "x": [
          -0.9174311926605504
         ],
         "y": [
          -0.2752293577981651
         ]
        },
        {
         "marker": {
          "color": "#8c564b"
         },
         "mode": "markers",
         "name": "z2_invers",
         "type": "scatter",
         "x": [
          0.7079646017699115
         ],
         "y": [
          -0.6194690265486724
         ]
        }
       ],
       "layout": {
        "annotations": [
         {
          "arrowcolor": "#1f77b4",
          "arrowhead": 3,
          "arrowwidth": 1.5,
          "ax": 0,
          "axref": "x",
          "ay": 0,
          "ayref": "y",
          "showarrow": true,
          "text": "",
          "x": -1,
          "y": 0.3
         },
         {
          "arrowcolor": "#ff7f0e",
          "arrowhead": 3,
          "arrowwidth": 1.5,
          "ax": 0,
          "axref": "x",
          "ay": 0,
          "ayref": "y",
          "showarrow": true,
          "text": "",
          "x": 0.8,
          "y": 0.7
         },
         {
          "arrowcolor": "#2ca02c",
          "arrowhead": 3,
          "arrowwidth": 1.5,
          "ax": 0,
          "axref": "x",
          "ay": 0,
          "ayref": "y",
          "showarrow": true,
          "text": "",
          "x": -1,
          "y": -0.3
         },
         {
          "arrowcolor": "#d62728",
          "arrowhead": 3,
          "arrowwidth": 1.5,
          "ax": 0,
          "axref": "x",
          "ay": 0,
          "ayref": "y",
          "showarrow": true,
          "text": "",
          "x": 0.8,
          "y": -0.7
         },
         {
          "arrowcolor": "#9467bd",
          "arrowhead": 3,
          "arrowwidth": 1.5,
          "ax": 0,
          "axref": "x",
          "ay": 0,
          "ayref": "y",
          "showarrow": true,
          "text": "",
          "x": -0.9174311926605504,
          "y": -0.2752293577981651
         },
         {
          "arrowcolor": "#8c564b",
          "arrowhead": 3,
          "arrowwidth": 1.5,
          "ax": 0,
          "axref": "x",
          "ay": 0,
          "ayref": "y",
          "showarrow": true,
          "text": "",
          "x": 0.7079646017699115,
          "y": -0.6194690265486724
         }
        ],
        "template": {
         "data": {
          "bar": [
           {
            "error_x": {
             "color": "#2a3f5f"
            },
            "error_y": {
             "color": "#2a3f5f"
            },
            "marker": {
             "line": {
              "color": "#E5ECF6",
              "width": 0.5
             },
             "pattern": {
              "fillmode": "overlay",
              "size": 10,
              "solidity": 0.2
             }
            },
            "type": "bar"
           }
          ],
          "barpolar": [
           {
            "marker": {
             "line": {
              "color": "#E5ECF6",
              "width": 0.5
             },
             "pattern": {
              "fillmode": "overlay",
              "size": 10,
              "solidity": 0.2
             }
            },
            "type": "barpolar"
           }
          ],
          "carpet": [
           {
            "aaxis": {
             "endlinecolor": "#2a3f5f",
             "gridcolor": "white",
             "linecolor": "white",
             "minorgridcolor": "white",
             "startlinecolor": "#2a3f5f"
            },
            "baxis": {
             "endlinecolor": "#2a3f5f",
             "gridcolor": "white",
             "linecolor": "white",
             "minorgridcolor": "white",
             "startlinecolor": "#2a3f5f"
            },
            "type": "carpet"
           }
          ],
          "choropleth": [
           {
            "colorbar": {
             "outlinewidth": 0,
             "ticks": ""
            },
            "type": "choropleth"
           }
          ],
          "contour": [
           {
            "colorbar": {
             "outlinewidth": 0,
             "ticks": ""
            },
            "colorscale": [
             [
              0,
              "#0d0887"
             ],
             [
              0.1111111111111111,
              "#46039f"
             ],
             [
              0.2222222222222222,
              "#7201a8"
             ],
             [
              0.3333333333333333,
              "#9c179e"
             ],
             [
              0.4444444444444444,
              "#bd3786"
             ],
             [
              0.5555555555555556,
              "#d8576b"
             ],
             [
              0.6666666666666666,
              "#ed7953"
             ],
             [
              0.7777777777777778,
              "#fb9f3a"
             ],
             [
              0.8888888888888888,
              "#fdca26"
             ],
             [
              1,
              "#f0f921"
             ]
            ],
            "type": "contour"
           }
          ],
          "contourcarpet": [
           {
            "colorbar": {
             "outlinewidth": 0,
             "ticks": ""
            },
            "type": "contourcarpet"
           }
          ],
          "heatmap": [
           {
            "colorbar": {
             "outlinewidth": 0,
             "ticks": ""
            },
            "colorscale": [
             [
              0,
              "#0d0887"
             ],
             [
              0.1111111111111111,
              "#46039f"
             ],
             [
              0.2222222222222222,
              "#7201a8"
             ],
             [
              0.3333333333333333,
              "#9c179e"
             ],
             [
              0.4444444444444444,
              "#bd3786"
             ],
             [
              0.5555555555555556,
              "#d8576b"
             ],
             [
              0.6666666666666666,
              "#ed7953"
             ],
             [
              0.7777777777777778,
              "#fb9f3a"
             ],
             [
              0.8888888888888888,
              "#fdca26"
             ],
             [
              1,
              "#f0f921"
             ]
            ],
            "type": "heatmap"
           }
          ],
          "histogram": [
           {
            "marker": {
             "pattern": {
              "fillmode": "overlay",
              "size": 10,
              "solidity": 0.2
             }
            },
            "type": "histogram"
           }
          ],
          "histogram2d": [
           {
            "colorbar": {
             "outlinewidth": 0,
             "ticks": ""
            },
            "colorscale": [
             [
              0,
              "#0d0887"
             ],
             [
              0.1111111111111111,
              "#46039f"
             ],
             [
              0.2222222222222222,
              "#7201a8"
             ],
             [
              0.3333333333333333,
              "#9c179e"
             ],
             [
              0.4444444444444444,
              "#bd3786"
             ],
             [
              0.5555555555555556,
              "#d8576b"
             ],
             [
              0.6666666666666666,
              "#ed7953"
             ],
             [
              0.7777777777777778,
              "#fb9f3a"
             ],
             [
              0.8888888888888888,
              "#fdca26"
             ],
             [
              1,
              "#f0f921"
             ]
            ],
            "type": "histogram2d"
           }
          ],
          "histogram2dcontour": [
           {
            "colorbar": {
             "outlinewidth": 0,
             "ticks": ""
            },
            "colorscale": [
             [
              0,
              "#0d0887"
             ],
             [
              0.1111111111111111,
              "#46039f"
             ],
             [
              0.2222222222222222,
              "#7201a8"
             ],
             [
              0.3333333333333333,
              "#9c179e"
             ],
             [
              0.4444444444444444,
              "#bd3786"
             ],
             [
              0.5555555555555556,
              "#d8576b"
             ],
             [
              0.6666666666666666,
              "#ed7953"
             ],
             [
              0.7777777777777778,
              "#fb9f3a"
             ],
             [
              0.8888888888888888,
              "#fdca26"
             ],
             [
              1,
              "#f0f921"
             ]
            ],
            "type": "histogram2dcontour"
           }
          ],
          "mesh3d": [
           {
            "colorbar": {
             "outlinewidth": 0,
             "ticks": ""
            },
            "type": "mesh3d"
           }
          ],
          "parcoords": [
           {
            "line": {
             "colorbar": {
              "outlinewidth": 0,
              "ticks": ""
             }
            },
            "type": "parcoords"
           }
          ],
          "pie": [
           {
            "automargin": true,
            "type": "pie"
           }
          ],
          "scatter": [
           {
            "fillpattern": {
             "fillmode": "overlay",
             "size": 10,
             "solidity": 0.2
            },
            "type": "scatter"
           }
          ],
          "scatter3d": [
           {
            "line": {
             "colorbar": {
              "outlinewidth": 0,
              "ticks": ""
             }
            },
            "marker": {
             "colorbar": {
              "outlinewidth": 0,
              "ticks": ""
             }
            },
            "type": "scatter3d"
           }
          ],
          "scattercarpet": [
           {
            "marker": {
             "colorbar": {
              "outlinewidth": 0,
              "ticks": ""
             }
            },
            "type": "scattercarpet"
           }
          ],
          "scattergeo": [
           {
            "marker": {
             "colorbar": {
              "outlinewidth": 0,
              "ticks": ""
             }
            },
            "type": "scattergeo"
           }
          ],
          "scattergl": [
           {
            "marker": {
             "colorbar": {
              "outlinewidth": 0,
              "ticks": ""
             }
            },
            "type": "scattergl"
           }
          ],
          "scattermap": [
           {
            "marker": {
             "colorbar": {
              "outlinewidth": 0,
              "ticks": ""
             }
            },
            "type": "scattermap"
           }
          ],
          "scattermapbox": [
           {
            "marker": {
             "colorbar": {
              "outlinewidth": 0,
              "ticks": ""
             }
            },
            "type": "scattermapbox"
           }
          ],
          "scatterpolar": [
           {
            "marker": {
             "colorbar": {
              "outlinewidth": 0,
              "ticks": ""
             }
            },
            "type": "scatterpolar"
           }
          ],
          "scatterpolargl": [
           {
            "marker": {
             "colorbar": {
              "outlinewidth": 0,
              "ticks": ""
             }
            },
            "type": "scatterpolargl"
           }
          ],
          "scatterternary": [
           {
            "marker": {
             "colorbar": {
              "outlinewidth": 0,
              "ticks": ""
             }
            },
            "type": "scatterternary"
           }
          ],
          "surface": [
           {
            "colorbar": {
             "outlinewidth": 0,
             "ticks": ""
            },
            "colorscale": [
             [
              0,
              "#0d0887"
             ],
             [
              0.1111111111111111,
              "#46039f"
             ],
             [
              0.2222222222222222,
              "#7201a8"
             ],
             [
              0.3333333333333333,
              "#9c179e"
             ],
             [
              0.4444444444444444,
              "#bd3786"
             ],
             [
              0.5555555555555556,
              "#d8576b"
             ],
             [
              0.6666666666666666,
              "#ed7953"
             ],
             [
              0.7777777777777778,
              "#fb9f3a"
             ],
             [
              0.8888888888888888,
              "#fdca26"
             ],
             [
              1,
              "#f0f921"
             ]
            ],
            "type": "surface"
           }
          ],
          "table": [
           {
            "cells": {
             "fill": {
              "color": "#EBF0F8"
             },
             "line": {
              "color": "white"
             }
            },
            "header": {
             "fill": {
              "color": "#C8D4E3"
             },
             "line": {
              "color": "white"
             }
            },
            "type": "table"
           }
          ]
         },
         "layout": {
          "annotationdefaults": {
           "arrowcolor": "#2a3f5f",
           "arrowhead": 0,
           "arrowwidth": 1
          },
          "autotypenumbers": "strict",
          "coloraxis": {
           "colorbar": {
            "outlinewidth": 0,
            "ticks": ""
           }
          },
          "colorscale": {
           "diverging": [
            [
             0,
             "#8e0152"
            ],
            [
             0.1,
             "#c51b7d"
            ],
            [
             0.2,
             "#de77ae"
            ],
            [
             0.3,
             "#f1b6da"
            ],
            [
             0.4,
             "#fde0ef"
            ],
            [
             0.5,
             "#f7f7f7"
            ],
            [
             0.6,
             "#e6f5d0"
            ],
            [
             0.7,
             "#b8e186"
            ],
            [
             0.8,
             "#7fbc41"
            ],
            [
             0.9,
             "#4d9221"
            ],
            [
             1,
             "#276419"
            ]
           ],
           "sequential": [
            [
             0,
             "#0d0887"
            ],
            [
             0.1111111111111111,
             "#46039f"
            ],
            [
             0.2222222222222222,
             "#7201a8"
            ],
            [
             0.3333333333333333,
             "#9c179e"
            ],
            [
             0.4444444444444444,
             "#bd3786"
            ],
            [
             0.5555555555555556,
             "#d8576b"
            ],
            [
             0.6666666666666666,
             "#ed7953"
            ],
            [
             0.7777777777777778,
             "#fb9f3a"
            ],
            [
             0.8888888888888888,
             "#fdca26"
            ],
            [
             1,
             "#f0f921"
            ]
           ],
           "sequentialminus": [
            [
             0,
             "#0d0887"
            ],
            [
             0.1111111111111111,
             "#46039f"
            ],
            [
             0.2222222222222222,
             "#7201a8"
            ],
            [
             0.3333333333333333,
             "#9c179e"
            ],
            [
             0.4444444444444444,
             "#bd3786"
            ],
            [
             0.5555555555555556,
             "#d8576b"
            ],
            [
             0.6666666666666666,
             "#ed7953"
            ],
            [
             0.7777777777777778,
             "#fb9f3a"
            ],
            [
             0.8888888888888888,
             "#fdca26"
            ],
            [
             1,
             "#f0f921"
            ]
           ]
          },
          "colorway": [
           "#636efa",
           "#EF553B",
           "#00cc96",
           "#ab63fa",
           "#FFA15A",
           "#19d3f3",
           "#FF6692",
           "#B6E880",
           "#FF97FF",
           "#FECB52"
          ],
          "font": {
           "color": "#2a3f5f"
          },
          "geo": {
           "bgcolor": "white",
           "lakecolor": "white",
           "landcolor": "#E5ECF6",
           "showlakes": true,
           "showland": true,
           "subunitcolor": "white"
          },
          "hoverlabel": {
           "align": "left"
          },
          "hovermode": "closest",
          "mapbox": {
           "style": "light"
          },
          "paper_bgcolor": "white",
          "plot_bgcolor": "#E5ECF6",
          "polar": {
           "angularaxis": {
            "gridcolor": "white",
            "linecolor": "white",
            "ticks": ""
           },
           "bgcolor": "#E5ECF6",
           "radialaxis": {
            "gridcolor": "white",
            "linecolor": "white",
            "ticks": ""
           }
          },
          "scene": {
           "xaxis": {
            "backgroundcolor": "#E5ECF6",
            "gridcolor": "white",
            "gridwidth": 2,
            "linecolor": "white",
            "showbackground": true,
            "ticks": "",
            "zerolinecolor": "white"
           },
           "yaxis": {
            "backgroundcolor": "#E5ECF6",
            "gridcolor": "white",
            "gridwidth": 2,
            "linecolor": "white",
            "showbackground": true,
            "ticks": "",
            "zerolinecolor": "white"
           },
           "zaxis": {
            "backgroundcolor": "#E5ECF6",
            "gridcolor": "white",
            "gridwidth": 2,
            "linecolor": "white",
            "showbackground": true,
            "ticks": "",
            "zerolinecolor": "white"
           }
          },
          "shapedefaults": {
           "line": {
            "color": "#2a3f5f"
           }
          },
          "ternary": {
           "aaxis": {
            "gridcolor": "white",
            "linecolor": "white",
            "ticks": ""
           },
           "baxis": {
            "gridcolor": "white",
            "linecolor": "white",
            "ticks": ""
           },
           "bgcolor": "#E5ECF6",
           "caxis": {
            "gridcolor": "white",
            "linecolor": "white",
            "ticks": ""
           }
          },
          "title": {
           "x": 0.05
          },
          "xaxis": {
           "automargin": true,
           "gridcolor": "white",
           "linecolor": "white",
           "ticks": "",
           "title": {
            "standoff": 15
           },
           "zerolinecolor": "white",
           "zerolinewidth": 2
          },
          "yaxis": {
           "automargin": true,
           "gridcolor": "white",
           "linecolor": "white",
           "ticks": "",
           "title": {
            "standoff": 15
           },
           "zerolinecolor": "white",
           "zerolinewidth": 2
          }
         }
        },
        "xaxis": {
         "title": {
          "text": "Real"
         }
        },
        "yaxis": {
         "scaleanchor": "x",
         "scaleratio": 1,
         "title": {
          "text": "Imaginary"
         }
        }
       }
      }
     },
     "metadata": {},
     "output_type": "display_data"
    }
   ],
   "source": [
    "z1_conj = np.conj(z1)\n",
    "z2_conj = np.conj(z2)\n",
    "\n",
    "z1_invers = 1/z1\n",
    "z2_invers = 1/z2\n",
    "\n",
    "plot_complex([z1, z2, z1_conj, z2_conj, z1_invers, z2_invers], name=['z1', 'z2', 'z1_conj', 'z2_conj', 'z1_invers', 'z2_invers'])"
   ]
  },
  {
   "cell_type": "markdown",
   "metadata": {
    "id": "gjPVdnvuKD06"
   },
   "source": [
    "**2. Complex Exponentials**\n",
    "\n",
    "Now let's work with complex exponentials. In python is very easy to work with these type of signals:"
   ]
  },
  {
   "cell_type": "code",
   "execution_count": 32,
   "metadata": {
    "executionInfo": {
     "elapsed": 12,
     "status": "ok",
     "timestamp": 1702317970079,
     "user": {
      "displayName": "PEDRO RAMONEDA FRANCO",
      "userId": "10653804143244385715"
     },
     "user_tz": -60
    },
    "id": "kjkqiEqriy6R"
   },
   "outputs": [],
   "source": [
    "A = 0.1\n",
    "f0 = 666.66\n",
    "fs = 44100\n",
    "phi = np.pi/2\n",
    "t = np.arange(0, .1, 1.0/fs)\n",
    "x = A * np.exp(1j*(2*f0*np.pi*t + phi))"
   ]
  },
  {
   "cell_type": "markdown",
   "metadata": {
    "id": "uUmIGLWyi9Wg"
   },
   "source": [
    "Now we can plot the real and imaginary part of this signal:\n"
   ]
  },
  {
   "cell_type": "code",
   "execution_count": 33,
   "metadata": {
    "colab": {
     "base_uri": "https://localhost:8080/",
     "height": 542
    },
    "executionInfo": {
     "elapsed": 1589,
     "status": "ok",
     "timestamp": 1702317971655,
     "user": {
      "displayName": "PEDRO RAMONEDA FRANCO",
      "userId": "10653804143244385715"
     },
     "user_tz": -60
    },
    "id": "3qRWzLQ4i86e",
    "outputId": "74ecce8b-bb7c-4a29-ee26-1b8a35492cfb"
   },
   "outputs": [
    {
     "data": {
      "application/vnd.plotly.v1+json": {
       "config": {
        "linkText": "Export to plot.ly",
        "plotlyServerURL": "https://plot.ly",
        "showLink": false
       },
       "data": [
        {
         "line": {
          "color": "#1f77b4",
          "shape": "linear"
         },
         "mode": "lines",
         "name": "real part",
         "type": "scatter",
         "x": {
          "bdata": "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",
          "dtype": "f8"
         },
         "y": {
          "bdata": "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",
          "dtype": "f8"
         }
        },
        {
         "line": {
          "color": "#ff7f0e",
          "shape": "linear"
         },
         "mode": "lines",
         "name": "imag part",
         "type": "scatter",
         "x": {
          "bdata": "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",
          "dtype": "f8"
         },
         "y": {
          "bdata": "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",
          "dtype": "f8"
         }
        }
       ],
       "layout": {
        "template": {
         "data": {
          "bar": [
           {
            "error_x": {
             "color": "#2a3f5f"
            },
            "error_y": {
             "color": "#2a3f5f"
            },
            "marker": {
             "line": {
              "color": "#E5ECF6",
              "width": 0.5
             },
             "pattern": {
              "fillmode": "overlay",
              "size": 10,
              "solidity": 0.2
             }
            },
            "type": "bar"
           }
          ],
          "barpolar": [
           {
            "marker": {
             "line": {
              "color": "#E5ECF6",
              "width": 0.5
             },
             "pattern": {
              "fillmode": "overlay",
              "size": 10,
              "solidity": 0.2
             }
            },
            "type": "barpolar"
           }
          ],
          "carpet": [
           {
            "aaxis": {
             "endlinecolor": "#2a3f5f",
             "gridcolor": "white",
             "linecolor": "white",
             "minorgridcolor": "white",
             "startlinecolor": "#2a3f5f"
            },
            "baxis": {
             "endlinecolor": "#2a3f5f",
             "gridcolor": "white",
             "linecolor": "white",
             "minorgridcolor": "white",
             "startlinecolor": "#2a3f5f"
            },
            "type": "carpet"
           }
          ],
          "choropleth": [
           {
            "colorbar": {
             "outlinewidth": 0,
             "ticks": ""
            },
            "type": "choropleth"
           }
          ],
          "contour": [
           {
            "colorbar": {
             "outlinewidth": 0,
             "ticks": ""
            },
            "colorscale": [
             [
              0,
              "#0d0887"
             ],
             [
              0.1111111111111111,
              "#46039f"
             ],
             [
              0.2222222222222222,
              "#7201a8"
             ],
             [
              0.3333333333333333,
              "#9c179e"
             ],
             [
              0.4444444444444444,
              "#bd3786"
             ],
             [
              0.5555555555555556,
              "#d8576b"
             ],
             [
              0.6666666666666666,
              "#ed7953"
             ],
             [
              0.7777777777777778,
              "#fb9f3a"
             ],
             [
              0.8888888888888888,
              "#fdca26"
             ],
             [
              1,
              "#f0f921"
             ]
            ],
            "type": "contour"
           }
          ],
          "contourcarpet": [
           {
            "colorbar": {
             "outlinewidth": 0,
             "ticks": ""
            },
            "type": "contourcarpet"
           }
          ],
          "heatmap": [
           {
            "colorbar": {
             "outlinewidth": 0,
             "ticks": ""
            },
            "colorscale": [
             [
              0,
              "#0d0887"
             ],
             [
              0.1111111111111111,
              "#46039f"
             ],
             [
              0.2222222222222222,
              "#7201a8"
             ],
             [
              0.3333333333333333,
              "#9c179e"
             ],
             [
              0.4444444444444444,
              "#bd3786"
             ],
             [
              0.5555555555555556,
              "#d8576b"
             ],
             [
              0.6666666666666666,
              "#ed7953"
             ],
             [
              0.7777777777777778,
              "#fb9f3a"
             ],
             [
              0.8888888888888888,
              "#fdca26"
             ],
             [
              1,
              "#f0f921"
             ]
            ],
            "type": "heatmap"
           }
          ],
          "histogram": [
           {
            "marker": {
             "pattern": {
              "fillmode": "overlay",
              "size": 10,
              "solidity": 0.2
             }
            },
            "type": "histogram"
           }
          ],
          "histogram2d": [
           {
            "colorbar": {
             "outlinewidth": 0,
             "ticks": ""
            },
            "colorscale": [
             [
              0,
              "#0d0887"
             ],
             [
              0.1111111111111111,
              "#46039f"
             ],
             [
              0.2222222222222222,
              "#7201a8"
             ],
             [
              0.3333333333333333,
              "#9c179e"
             ],
             [
              0.4444444444444444,
              "#bd3786"
             ],
             [
              0.5555555555555556,
              "#d8576b"
             ],
             [
              0.6666666666666666,
              "#ed7953"
             ],
             [
              0.7777777777777778,
              "#fb9f3a"
             ],
             [
              0.8888888888888888,
              "#fdca26"
             ],
             [
              1,
              "#f0f921"
             ]
            ],
            "type": "histogram2d"
           }
          ],
          "histogram2dcontour": [
           {
            "colorbar": {
             "outlinewidth": 0,
             "ticks": ""
            },
            "colorscale": [
             [
              0,
              "#0d0887"
             ],
             [
              0.1111111111111111,
              "#46039f"
             ],
             [
              0.2222222222222222,
              "#7201a8"
             ],
             [
              0.3333333333333333,
              "#9c179e"
             ],
             [
              0.4444444444444444,
              "#bd3786"
             ],
             [
              0.5555555555555556,
              "#d8576b"
             ],
             [
              0.6666666666666666,
              "#ed7953"
             ],
             [
              0.7777777777777778,
              "#fb9f3a"
             ],
             [
              0.8888888888888888,
              "#fdca26"
             ],
             [
              1,
              "#f0f921"
             ]
            ],
            "type": "histogram2dcontour"
           }
          ],
          "mesh3d": [
           {
            "colorbar": {
             "outlinewidth": 0,
             "ticks": ""
            },
            "type": "mesh3d"
           }
          ],
          "parcoords": [
           {
            "line": {
             "colorbar": {
              "outlinewidth": 0,
              "ticks": ""
             }
            },
            "type": "parcoords"
           }
          ],
          "pie": [
           {
            "automargin": true,
            "type": "pie"
           }
          ],
          "scatter": [
           {
            "fillpattern": {
             "fillmode": "overlay",
             "size": 10,
             "solidity": 0.2
            },
            "type": "scatter"
           }
          ],
          "scatter3d": [
           {
            "line": {
             "colorbar": {
              "outlinewidth": 0,
              "ticks": ""
             }
            },
            "marker": {
             "colorbar": {
              "outlinewidth": 0,
              "ticks": ""
             }
            },
            "type": "scatter3d"
           }
          ],
          "scattercarpet": [
           {
            "marker": {
             "colorbar": {
              "outlinewidth": 0,
              "ticks": ""
             }
            },
            "type": "scattercarpet"
           }
          ],
          "scattergeo": [
           {
            "marker": {
             "colorbar": {
              "outlinewidth": 0,
              "ticks": ""
             }
            },
            "type": "scattergeo"
           }
          ],
          "scattergl": [
           {
            "marker": {
             "colorbar": {
              "outlinewidth": 0,
              "ticks": ""
             }
            },
            "type": "scattergl"
           }
          ],
          "scattermap": [
           {
            "marker": {
             "colorbar": {
              "outlinewidth": 0,
              "ticks": ""
             }
            },
            "type": "scattermap"
           }
          ],
          "scattermapbox": [
           {
            "marker": {
             "colorbar": {
              "outlinewidth": 0,
              "ticks": ""
             }
            },
            "type": "scattermapbox"
           }
          ],
          "scatterpolar": [
           {
            "marker": {
             "colorbar": {
              "outlinewidth": 0,
              "ticks": ""
             }
            },
            "type": "scatterpolar"
           }
          ],
          "scatterpolargl": [
           {
            "marker": {
             "colorbar": {
              "outlinewidth": 0,
              "ticks": ""
             }
            },
            "type": "scatterpolargl"
           }
          ],
          "scatterternary": [
           {
            "marker": {
             "colorbar": {
              "outlinewidth": 0,
              "ticks": ""
             }
            },
            "type": "scatterternary"
           }
          ],
          "surface": [
           {
            "colorbar": {
             "outlinewidth": 0,
             "ticks": ""
            },
            "colorscale": [
             [
              0,
              "#0d0887"
             ],
             [
              0.1111111111111111,
              "#46039f"
             ],
             [
              0.2222222222222222,
              "#7201a8"
             ],
             [
              0.3333333333333333,
              "#9c179e"
             ],
             [
              0.4444444444444444,
              "#bd3786"
             ],
             [
              0.5555555555555556,
              "#d8576b"
             ],
             [
              0.6666666666666666,
              "#ed7953"
             ],
             [
              0.7777777777777778,
              "#fb9f3a"
             ],
             [
              0.8888888888888888,
              "#fdca26"
             ],
             [
              1,
              "#f0f921"
             ]
            ],
            "type": "surface"
           }
          ],
          "table": [
           {
            "cells": {
             "fill": {
              "color": "#EBF0F8"
             },
             "line": {
              "color": "white"
             }
            },
            "header": {
             "fill": {
              "color": "#C8D4E3"
             },
             "line": {
              "color": "white"
             }
            },
            "type": "table"
           }
          ]
         },
         "layout": {
          "annotationdefaults": {
           "arrowcolor": "#2a3f5f",
           "arrowhead": 0,
           "arrowwidth": 1
          },
          "autotypenumbers": "strict",
          "coloraxis": {
           "colorbar": {
            "outlinewidth": 0,
            "ticks": ""
           }
          },
          "colorscale": {
           "diverging": [
            [
             0,
             "#8e0152"
            ],
            [
             0.1,
             "#c51b7d"
            ],
            [
             0.2,
             "#de77ae"
            ],
            [
             0.3,
             "#f1b6da"
            ],
            [
             0.4,
             "#fde0ef"
            ],
            [
             0.5,
             "#f7f7f7"
            ],
            [
             0.6,
             "#e6f5d0"
            ],
            [
             0.7,
             "#b8e186"
            ],
            [
             0.8,
             "#7fbc41"
            ],
            [
             0.9,
             "#4d9221"
            ],
            [
             1,
             "#276419"
            ]
           ],
           "sequential": [
            [
             0,
             "#0d0887"
            ],
            [
             0.1111111111111111,
             "#46039f"
            ],
            [
             0.2222222222222222,
             "#7201a8"
            ],
            [
             0.3333333333333333,
             "#9c179e"
            ],
            [
             0.4444444444444444,
             "#bd3786"
            ],
            [
             0.5555555555555556,
             "#d8576b"
            ],
            [
             0.6666666666666666,
             "#ed7953"
            ],
            [
             0.7777777777777778,
             "#fb9f3a"
            ],
            [
             0.8888888888888888,
             "#fdca26"
            ],
            [
             1,
             "#f0f921"
            ]
           ],
           "sequentialminus": [
            [
             0,
             "#0d0887"
            ],
            [
             0.1111111111111111,
             "#46039f"
            ],
            [
             0.2222222222222222,
             "#7201a8"
            ],
            [
             0.3333333333333333,
             "#9c179e"
            ],
            [
             0.4444444444444444,
             "#bd3786"
            ],
            [
             0.5555555555555556,
             "#d8576b"
            ],
            [
             0.6666666666666666,
             "#ed7953"
            ],
            [
             0.7777777777777778,
             "#fb9f3a"
            ],
            [
             0.8888888888888888,
             "#fdca26"
            ],
            [
             1,
             "#f0f921"
            ]
           ]
          },
          "colorway": [
           "#636efa",
           "#EF553B",
           "#00cc96",
           "#ab63fa",
           "#FFA15A",
           "#19d3f3",
           "#FF6692",
           "#B6E880",
           "#FF97FF",
           "#FECB52"
          ],
          "font": {
           "color": "#2a3f5f"
          },
          "geo": {
           "bgcolor": "white",
           "lakecolor": "white",
           "landcolor": "#E5ECF6",
           "showlakes": true,
           "showland": true,
           "subunitcolor": "white"
          },
          "hoverlabel": {
           "align": "left"
          },
          "hovermode": "closest",
          "mapbox": {
           "style": "light"
          },
          "paper_bgcolor": "white",
          "plot_bgcolor": "#E5ECF6",
          "polar": {
           "angularaxis": {
            "gridcolor": "white",
            "linecolor": "white",
            "ticks": ""
           },
           "bgcolor": "#E5ECF6",
           "radialaxis": {
            "gridcolor": "white",
            "linecolor": "white",
            "ticks": ""
           }
          },
          "scene": {
           "xaxis": {
            "backgroundcolor": "#E5ECF6",
            "gridcolor": "white",
            "gridwidth": 2,
            "linecolor": "white",
            "showbackground": true,
            "ticks": "",
            "zerolinecolor": "white"
           },
           "yaxis": {
            "backgroundcolor": "#E5ECF6",
            "gridcolor": "white",
            "gridwidth": 2,
            "linecolor": "white",
            "showbackground": true,
            "ticks": "",
            "zerolinecolor": "white"
           },
           "zaxis": {
            "backgroundcolor": "#E5ECF6",
            "gridcolor": "white",
            "gridwidth": 2,
            "linecolor": "white",
            "showbackground": true,
            "ticks": "",
            "zerolinecolor": "white"
           }
          },
          "shapedefaults": {
           "line": {
            "color": "#2a3f5f"
           }
          },
          "ternary": {
           "aaxis": {
            "gridcolor": "white",
            "linecolor": "white",
            "ticks": ""
           },
           "baxis": {
            "gridcolor": "white",
            "linecolor": "white",
            "ticks": ""
           },
           "bgcolor": "#E5ECF6",
           "caxis": {
            "gridcolor": "white",
            "linecolor": "white",
            "ticks": ""
           }
          },
          "title": {
           "x": 0.05
          },
          "xaxis": {
           "automargin": true,
           "gridcolor": "white",
           "linecolor": "white",
           "ticks": "",
           "title": {
            "standoff": 15
           },
           "zerolinecolor": "white",
           "zerolinewidth": 2
          },
          "yaxis": {
           "automargin": true,
           "gridcolor": "white",
           "linecolor": "white",
           "ticks": "",
           "title": {
            "standoff": 15
           },
           "zerolinecolor": "white",
           "zerolinewidth": 2
          }
         }
        }
       }
      }
     },
     "metadata": {},
     "output_type": "display_data"
    }
   ],
   "source": [
    "plot_signals([np.real(x), np.imag(x)], fs, name=['real part', 'imag part'])"
   ]
  },
  {
   "cell_type": "markdown",
   "metadata": {
    "id": "WbmSTmpIkU9B"
   },
   "source": [
    "2.1. Define a complex exponential with the same parameters that those from Lab 1 (Ex 3.1) and plot the real part."
   ]
  },
  {
   "cell_type": "code",
   "execution_count": 34,
   "metadata": {
    "executionInfo": {
     "elapsed": 14,
     "status": "ok",
     "timestamp": 1702317971656,
     "user": {
      "displayName": "PEDRO RAMONEDA FRANCO",
      "userId": "10653804143244385715"
     },
     "user_tz": -60
    },
    "id": "o3o5lc6WkTId"
   },
   "outputs": [
    {
     "data": {
      "application/vnd.plotly.v1+json": {
       "config": {
        "linkText": "Export to plot.ly",
        "plotlyServerURL": "https://plot.ly",
        "showLink": false
       },
       "data": [
        {
         "line": {
          "color": "#1f77b4",
          "shape": "linear"
         },
         "mode": "lines",
         "name": "real part",
         "type": "scatter",
         "x": {
          "bdata": "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",
          "dtype": "f8"
         },
         "y": {
          "bdata": "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",
          "dtype": "f8"
         }
        }
       ],
       "layout": {
        "template": {
         "data": {
          "bar": [
           {
            "error_x": {
             "color": "#2a3f5f"
            },
            "error_y": {
             "color": "#2a3f5f"
            },
            "marker": {
             "line": {
              "color": "#E5ECF6",
              "width": 0.5
             },
             "pattern": {
              "fillmode": "overlay",
              "size": 10,
              "solidity": 0.2
             }
            },
            "type": "bar"
           }
          ],
          "barpolar": [
           {
            "marker": {
             "line": {
              "color": "#E5ECF6",
              "width": 0.5
             },
             "pattern": {
              "fillmode": "overlay",
              "size": 10,
              "solidity": 0.2
             }
            },
            "type": "barpolar"
           }
          ],
          "carpet": [
           {
            "aaxis": {
             "endlinecolor": "#2a3f5f",
             "gridcolor": "white",
             "linecolor": "white",
             "minorgridcolor": "white",
             "startlinecolor": "#2a3f5f"
            },
            "baxis": {
             "endlinecolor": "#2a3f5f",
             "gridcolor": "white",
             "linecolor": "white",
             "minorgridcolor": "white",
             "startlinecolor": "#2a3f5f"
            },
            "type": "carpet"
           }
          ],
          "choropleth": [
           {
            "colorbar": {
             "outlinewidth": 0,
             "ticks": ""
            },
            "type": "choropleth"
           }
          ],
          "contour": [
           {
            "colorbar": {
             "outlinewidth": 0,
             "ticks": ""
            },
            "colorscale": [
             [
              0,
              "#0d0887"
             ],
             [
              0.1111111111111111,
              "#46039f"
             ],
             [
              0.2222222222222222,
              "#7201a8"
             ],
             [
              0.3333333333333333,
              "#9c179e"
             ],
             [
              0.4444444444444444,
              "#bd3786"
             ],
             [
              0.5555555555555556,
              "#d8576b"
             ],
             [
              0.6666666666666666,
              "#ed7953"
             ],
             [
              0.7777777777777778,
              "#fb9f3a"
             ],
             [
              0.8888888888888888,
              "#fdca26"
             ],
             [
              1,
              "#f0f921"
             ]
            ],
            "type": "contour"
           }
          ],
          "contourcarpet": [
           {
            "colorbar": {
             "outlinewidth": 0,
             "ticks": ""
            },
            "type": "contourcarpet"
           }
          ],
          "heatmap": [
           {
            "colorbar": {
             "outlinewidth": 0,
             "ticks": ""
            },
            "colorscale": [
             [
              0,
              "#0d0887"
             ],
             [
              0.1111111111111111,
              "#46039f"
             ],
             [
              0.2222222222222222,
              "#7201a8"
             ],
             [
              0.3333333333333333,
              "#9c179e"
             ],
             [
              0.4444444444444444,
              "#bd3786"
             ],
             [
              0.5555555555555556,
              "#d8576b"
             ],
             [
              0.6666666666666666,
              "#ed7953"
             ],
             [
              0.7777777777777778,
              "#fb9f3a"
             ],
             [
              0.8888888888888888,
              "#fdca26"
             ],
             [
              1,
              "#f0f921"
             ]
            ],
            "type": "heatmap"
           }
          ],
          "histogram": [
           {
            "marker": {
             "pattern": {
              "fillmode": "overlay",
              "size": 10,
              "solidity": 0.2
             }
            },
            "type": "histogram"
           }
          ],
          "histogram2d": [
           {
            "colorbar": {
             "outlinewidth": 0,
             "ticks": ""
            },
            "colorscale": [
             [
              0,
              "#0d0887"
             ],
             [
              0.1111111111111111,
              "#46039f"
             ],
             [
              0.2222222222222222,
              "#7201a8"
             ],
             [
              0.3333333333333333,
              "#9c179e"
             ],
             [
              0.4444444444444444,
              "#bd3786"
             ],
             [
              0.5555555555555556,
              "#d8576b"
             ],
             [
              0.6666666666666666,
              "#ed7953"
             ],
             [
              0.7777777777777778,
              "#fb9f3a"
             ],
             [
              0.8888888888888888,
              "#fdca26"
             ],
             [
              1,
              "#f0f921"
             ]
            ],
            "type": "histogram2d"
           }
          ],
          "histogram2dcontour": [
           {
            "colorbar": {
             "outlinewidth": 0,
             "ticks": ""
            },
            "colorscale": [
             [
              0,
              "#0d0887"
             ],
             [
              0.1111111111111111,
              "#46039f"
             ],
             [
              0.2222222222222222,
              "#7201a8"
             ],
             [
              0.3333333333333333,
              "#9c179e"
             ],
             [
              0.4444444444444444,
              "#bd3786"
             ],
             [
              0.5555555555555556,
              "#d8576b"
             ],
             [
              0.6666666666666666,
              "#ed7953"
             ],
             [
              0.7777777777777778,
              "#fb9f3a"
             ],
             [
              0.8888888888888888,
              "#fdca26"
             ],
             [
              1,
              "#f0f921"
             ]
            ],
            "type": "histogram2dcontour"
           }
          ],
          "mesh3d": [
           {
            "colorbar": {
             "outlinewidth": 0,
             "ticks": ""
            },
            "type": "mesh3d"
           }
          ],
          "parcoords": [
           {
            "line": {
             "colorbar": {
              "outlinewidth": 0,
              "ticks": ""
             }
            },
            "type": "parcoords"
           }
          ],
          "pie": [
           {
            "automargin": true,
            "type": "pie"
           }
          ],
          "scatter": [
           {
            "fillpattern": {
             "fillmode": "overlay",
             "size": 10,
             "solidity": 0.2
            },
            "type": "scatter"
           }
          ],
          "scatter3d": [
           {
            "line": {
             "colorbar": {
              "outlinewidth": 0,
              "ticks": ""
             }
            },
            "marker": {
             "colorbar": {
              "outlinewidth": 0,
              "ticks": ""
             }
            },
            "type": "scatter3d"
           }
          ],
          "scattercarpet": [
           {
            "marker": {
             "colorbar": {
              "outlinewidth": 0,
              "ticks": ""
             }
            },
            "type": "scattercarpet"
           }
          ],
          "scattergeo": [
           {
            "marker": {
             "colorbar": {
              "outlinewidth": 0,
              "ticks": ""
             }
            },
            "type": "scattergeo"
           }
          ],
          "scattergl": [
           {
            "marker": {
             "colorbar": {
              "outlinewidth": 0,
              "ticks": ""
             }
            },
            "type": "scattergl"
           }
          ],
          "scattermap": [
           {
            "marker": {
             "colorbar": {
              "outlinewidth": 0,
              "ticks": ""
             }
            },
            "type": "scattermap"
           }
          ],
          "scattermapbox": [
           {
            "marker": {
             "colorbar": {
              "outlinewidth": 0,
              "ticks": ""
             }
            },
            "type": "scattermapbox"
           }
          ],
          "scatterpolar": [
           {
            "marker": {
             "colorbar": {
              "outlinewidth": 0,
              "ticks": ""
             }
            },
            "type": "scatterpolar"
           }
          ],
          "scatterpolargl": [
           {
            "marker": {
             "colorbar": {
              "outlinewidth": 0,
              "ticks": ""
             }
            },
            "type": "scatterpolargl"
           }
          ],
          "scatterternary": [
           {
            "marker": {
             "colorbar": {
              "outlinewidth": 0,
              "ticks": ""
             }
            },
            "type": "scatterternary"
           }
          ],
          "surface": [
           {
            "colorbar": {
             "outlinewidth": 0,
             "ticks": ""
            },
            "colorscale": [
             [
              0,
              "#0d0887"
             ],
             [
              0.1111111111111111,
              "#46039f"
             ],
             [
              0.2222222222222222,
              "#7201a8"
             ],
             [
              0.3333333333333333,
              "#9c179e"
             ],
             [
              0.4444444444444444,
              "#bd3786"
             ],
             [
              0.5555555555555556,
              "#d8576b"
             ],
             [
              0.6666666666666666,
              "#ed7953"
             ],
             [
              0.7777777777777778,
              "#fb9f3a"
             ],
             [
              0.8888888888888888,
              "#fdca26"
             ],
             [
              1,
              "#f0f921"
             ]
            ],
            "type": "surface"
           }
          ],
          "table": [
           {
            "cells": {
             "fill": {
              "color": "#EBF0F8"
             },
             "line": {
              "color": "white"
             }
            },
            "header": {
             "fill": {
              "color": "#C8D4E3"
             },
             "line": {
              "color": "white"
             }
            },
            "type": "table"
           }
          ]
         },
         "layout": {
          "annotationdefaults": {
           "arrowcolor": "#2a3f5f",
           "arrowhead": 0,
           "arrowwidth": 1
          },
          "autotypenumbers": "strict",
          "coloraxis": {
           "colorbar": {
            "outlinewidth": 0,
            "ticks": ""
           }
          },
          "colorscale": {
           "diverging": [
            [
             0,
             "#8e0152"
            ],
            [
             0.1,
             "#c51b7d"
            ],
            [
             0.2,
             "#de77ae"
            ],
            [
             0.3,
             "#f1b6da"
            ],
            [
             0.4,
             "#fde0ef"
            ],
            [
             0.5,
             "#f7f7f7"
            ],
            [
             0.6,
             "#e6f5d0"
            ],
            [
             0.7,
             "#b8e186"
            ],
            [
             0.8,
             "#7fbc41"
            ],
            [
             0.9,
             "#4d9221"
            ],
            [
             1,
             "#276419"
            ]
           ],
           "sequential": [
            [
             0,
             "#0d0887"
            ],
            [
             0.1111111111111111,
             "#46039f"
            ],
            [
             0.2222222222222222,
             "#7201a8"
            ],
            [
             0.3333333333333333,
             "#9c179e"
            ],
            [
             0.4444444444444444,
             "#bd3786"
            ],
            [
             0.5555555555555556,
             "#d8576b"
            ],
            [
             0.6666666666666666,
             "#ed7953"
            ],
            [
             0.7777777777777778,
             "#fb9f3a"
            ],
            [
             0.8888888888888888,
             "#fdca26"
            ],
            [
             1,
             "#f0f921"
            ]
           ],
           "sequentialminus": [
            [
             0,
             "#0d0887"
            ],
            [
             0.1111111111111111,
             "#46039f"
            ],
            [
             0.2222222222222222,
             "#7201a8"
            ],
            [
             0.3333333333333333,
             "#9c179e"
            ],
            [
             0.4444444444444444,
             "#bd3786"
            ],
            [
             0.5555555555555556,
             "#d8576b"
            ],
            [
             0.6666666666666666,
             "#ed7953"
            ],
            [
             0.7777777777777778,
             "#fb9f3a"
            ],
            [
             0.8888888888888888,
             "#fdca26"
            ],
            [
             1,
             "#f0f921"
            ]
           ]
          },
          "colorway": [
           "#636efa",
           "#EF553B",
           "#00cc96",
           "#ab63fa",
           "#FFA15A",
           "#19d3f3",
           "#FF6692",
           "#B6E880",
           "#FF97FF",
           "#FECB52"
          ],
          "font": {
           "color": "#2a3f5f"
          },
          "geo": {
           "bgcolor": "white",
           "lakecolor": "white",
           "landcolor": "#E5ECF6",
           "showlakes": true,
           "showland": true,
           "subunitcolor": "white"
          },
          "hoverlabel": {
           "align": "left"
          },
          "hovermode": "closest",
          "mapbox": {
           "style": "light"
          },
          "paper_bgcolor": "white",
          "plot_bgcolor": "#E5ECF6",
          "polar": {
           "angularaxis": {
            "gridcolor": "white",
            "linecolor": "white",
            "ticks": ""
           },
           "bgcolor": "#E5ECF6",
           "radialaxis": {
            "gridcolor": "white",
            "linecolor": "white",
            "ticks": ""
           }
          },
          "scene": {
           "xaxis": {
            "backgroundcolor": "#E5ECF6",
            "gridcolor": "white",
            "gridwidth": 2,
            "linecolor": "white",
            "showbackground": true,
            "ticks": "",
            "zerolinecolor": "white"
           },
           "yaxis": {
            "backgroundcolor": "#E5ECF6",
            "gridcolor": "white",
            "gridwidth": 2,
            "linecolor": "white",
            "showbackground": true,
            "ticks": "",
            "zerolinecolor": "white"
           },
           "zaxis": {
            "backgroundcolor": "#E5ECF6",
            "gridcolor": "white",
            "gridwidth": 2,
            "linecolor": "white",
            "showbackground": true,
            "ticks": "",
            "zerolinecolor": "white"
           }
          },
          "shapedefaults": {
           "line": {
            "color": "#2a3f5f"
           }
          },
          "ternary": {
           "aaxis": {
            "gridcolor": "white",
            "linecolor": "white",
            "ticks": ""
           },
           "baxis": {
            "gridcolor": "white",
            "linecolor": "white",
            "ticks": ""
           },
           "bgcolor": "#E5ECF6",
           "caxis": {
            "gridcolor": "white",
            "linecolor": "white",
            "ticks": ""
           }
          },
          "title": {
           "x": 0.05
          },
          "xaxis": {
           "automargin": true,
           "gridcolor": "white",
           "linecolor": "white",
           "ticks": "",
           "title": {
            "standoff": 15
           },
           "zerolinecolor": "white",
           "zerolinewidth": 2
          },
          "yaxis": {
           "automargin": true,
           "gridcolor": "white",
           "linecolor": "white",
           "ticks": "",
           "title": {
            "standoff": 15
           },
           "zerolinecolor": "white",
           "zerolinewidth": 2
          }
         }
        }
       }
      }
     },
     "metadata": {},
     "output_type": "display_data"
    }
   ],
   "source": [
    "plot_signals([np.real(x)], fs, name=['real part'])"
   ]
  },
  {
   "cell_type": "markdown",
   "metadata": {
    "id": "bU3RpE-gxOtj"
   },
   "source": [
    "**3. Harmonic signals**\n",
    "\n",
    "Now, we will work with harmonic signals. Until now, we have been working with simple sinusoids signals but most musical instruments sounds are harmonic. This means that they are formed by a sinusoid of the fundamental frequency plus sinusoids with frequencies multiples of it. For instance, we can define the following signal formed by the fundamental frequency plus the second and the third harmonic (note that each wave has a different phase)."
   ]
  },
  {
   "cell_type": "markdown",
   "metadata": {
    "id": "33AJ43U-yuv6"
   },
   "source": [
    "3.1. Load your reference audio signal and plot some periods (5-10) where the amplitude is stable. For instance see Ex. 2.3 from Lab 1."
   ]
  },
  {
   "cell_type": "code",
   "execution_count": 35,
   "metadata": {
    "executionInfo": {
     "elapsed": 13,
     "status": "ok",
     "timestamp": 1702317971657,
     "user": {
      "displayName": "PEDRO RAMONEDA FRANCO",
      "userId": "10653804143244385715"
     },
     "user_tz": -60
    },
    "id": "KRd70D8Ayt26"
   },
   "outputs": [
    {
     "data": {
      "application/vnd.plotly.v1+json": {
       "config": {
        "linkText": "Export to plot.ly",
        "plotlyServerURL": "https://plot.ly",
        "showLink": false
       },
       "data": [
        {
         "line": {
          "color": "#1f77b4",
          "shape": "linear"
         },
         "mode": "lines",
         "name": "audio signal 0",
         "type": "scatter",
         "x": {
          "bdata": "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",
          "dtype": "f8"
         },
         "y": {
          "bdata": "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",
          "dtype": "f8"
         }
        }
       ],
       "layout": {
        "template": {
         "data": {
          "bar": [
           {
            "error_x": {
             "color": "#2a3f5f"
            },
            "error_y": {
             "color": "#2a3f5f"
            },
            "marker": {
             "line": {
              "color": "#E5ECF6",
              "width": 0.5
             },
             "pattern": {
              "fillmode": "overlay",
              "size": 10,
              "solidity": 0.2
             }
            },
            "type": "bar"
           }
          ],
          "barpolar": [
           {
            "marker": {
             "line": {
              "color": "#E5ECF6",
              "width": 0.5
             },
             "pattern": {
              "fillmode": "overlay",
              "size": 10,
              "solidity": 0.2
             }
            },
            "type": "barpolar"
           }
          ],
          "carpet": [
           {
            "aaxis": {
             "endlinecolor": "#2a3f5f",
             "gridcolor": "white",
             "linecolor": "white",
             "minorgridcolor": "white",
             "startlinecolor": "#2a3f5f"
            },
            "baxis": {
             "endlinecolor": "#2a3f5f",
             "gridcolor": "white",
             "linecolor": "white",
             "minorgridcolor": "white",
             "startlinecolor": "#2a3f5f"
            },
            "type": "carpet"
           }
          ],
          "choropleth": [
           {
            "colorbar": {
             "outlinewidth": 0,
             "ticks": ""
            },
            "type": "choropleth"
           }
          ],
          "contour": [
           {
            "colorbar": {
             "outlinewidth": 0,
             "ticks": ""
            },
            "colorscale": [
             [
              0,
              "#0d0887"
             ],
             [
              0.1111111111111111,
              "#46039f"
             ],
             [
              0.2222222222222222,
              "#7201a8"
             ],
             [
              0.3333333333333333,
              "#9c179e"
             ],
             [
              0.4444444444444444,
              "#bd3786"
             ],
             [
              0.5555555555555556,
              "#d8576b"
             ],
             [
              0.6666666666666666,
              "#ed7953"
             ],
             [
              0.7777777777777778,
              "#fb9f3a"
             ],
             [
              0.8888888888888888,
              "#fdca26"
             ],
             [
              1,
              "#f0f921"
             ]
            ],
            "type": "contour"
           }
          ],
          "contourcarpet": [
           {
            "colorbar": {
             "outlinewidth": 0,
             "ticks": ""
            },
            "type": "contourcarpet"
           }
          ],
          "heatmap": [
           {
            "colorbar": {
             "outlinewidth": 0,
             "ticks": ""
            },
            "colorscale": [
             [
              0,
              "#0d0887"
             ],
             [
              0.1111111111111111,
              "#46039f"
             ],
             [
              0.2222222222222222,
              "#7201a8"
             ],
             [
              0.3333333333333333,
              "#9c179e"
             ],
             [
              0.4444444444444444,
              "#bd3786"
             ],
             [
              0.5555555555555556,
              "#d8576b"
             ],
             [
              0.6666666666666666,
              "#ed7953"
             ],
             [
              0.7777777777777778,
              "#fb9f3a"
             ],
             [
              0.8888888888888888,
              "#fdca26"
             ],
             [
              1,
              "#f0f921"
             ]
            ],
            "type": "heatmap"
           }
          ],
          "histogram": [
           {
            "marker": {
             "pattern": {
              "fillmode": "overlay",
              "size": 10,
              "solidity": 0.2
             }
            },
            "type": "histogram"
           }
          ],
          "histogram2d": [
           {
            "colorbar": {
             "outlinewidth": 0,
             "ticks": ""
            },
            "colorscale": [
             [
              0,
              "#0d0887"
             ],
             [
              0.1111111111111111,
              "#46039f"
             ],
             [
              0.2222222222222222,
              "#7201a8"
             ],
             [
              0.3333333333333333,
              "#9c179e"
             ],
             [
              0.4444444444444444,
              "#bd3786"
             ],
             [
              0.5555555555555556,
              "#d8576b"
             ],
             [
              0.6666666666666666,
              "#ed7953"
             ],
             [
              0.7777777777777778,
              "#fb9f3a"
             ],
             [
              0.8888888888888888,
              "#fdca26"
             ],
             [
              1,
              "#f0f921"
             ]
            ],
            "type": "histogram2d"
           }
          ],
          "histogram2dcontour": [
           {
            "colorbar": {
             "outlinewidth": 0,
             "ticks": ""
            },
            "colorscale": [
             [
              0,
              "#0d0887"
             ],
             [
              0.1111111111111111,
              "#46039f"
             ],
             [
              0.2222222222222222,
              "#7201a8"
             ],
             [
              0.3333333333333333,
              "#9c179e"
             ],
             [
              0.4444444444444444,
              "#bd3786"
             ],
             [
              0.5555555555555556,
              "#d8576b"
             ],
             [
              0.6666666666666666,
              "#ed7953"
             ],
             [
              0.7777777777777778,
              "#fb9f3a"
             ],
             [
              0.8888888888888888,
              "#fdca26"
             ],
             [
              1,
              "#f0f921"
             ]
            ],
            "type": "histogram2dcontour"
           }
          ],
          "mesh3d": [
           {
            "colorbar": {
             "outlinewidth": 0,
             "ticks": ""
            },
            "type": "mesh3d"
           }
          ],
          "parcoords": [
           {
            "line": {
             "colorbar": {
              "outlinewidth": 0,
              "ticks": ""
             }
            },
            "type": "parcoords"
           }
          ],
          "pie": [
           {
            "automargin": true,
            "type": "pie"
           }
          ],
          "scatter": [
           {
            "fillpattern": {
             "fillmode": "overlay",
             "size": 10,
             "solidity": 0.2
            },
            "type": "scatter"
           }
          ],
          "scatter3d": [
           {
            "line": {
             "colorbar": {
              "outlinewidth": 0,
              "ticks": ""
             }
            },
            "marker": {
             "colorbar": {
              "outlinewidth": 0,
              "ticks": ""
             }
            },
            "type": "scatter3d"
           }
          ],
          "scattercarpet": [
           {
            "marker": {
             "colorbar": {
              "outlinewidth": 0,
              "ticks": ""
             }
            },
            "type": "scattercarpet"
           }
          ],
          "scattergeo": [
           {
            "marker": {
             "colorbar": {
              "outlinewidth": 0,
              "ticks": ""
             }
            },
            "type": "scattergeo"
           }
          ],
          "scattergl": [
           {
            "marker": {
             "colorbar": {
              "outlinewidth": 0,
              "ticks": ""
             }
            },
            "type": "scattergl"
           }
          ],
          "scattermap": [
           {
            "marker": {
             "colorbar": {
              "outlinewidth": 0,
              "ticks": ""
             }
            },
            "type": "scattermap"
           }
          ],
          "scattermapbox": [
           {
            "marker": {
             "colorbar": {
              "outlinewidth": 0,
              "ticks": ""
             }
            },
            "type": "scattermapbox"
           }
          ],
          "scatterpolar": [
           {
            "marker": {
             "colorbar": {
              "outlinewidth": 0,
              "ticks": ""
             }
            },
            "type": "scatterpolar"
           }
          ],
          "scatterpolargl": [
           {
            "marker": {
             "colorbar": {
              "outlinewidth": 0,
              "ticks": ""
             }
            },
            "type": "scatterpolargl"
           }
          ],
          "scatterternary": [
           {
            "marker": {
             "colorbar": {
              "outlinewidth": 0,
              "ticks": ""
             }
            },
            "type": "scatterternary"
           }
          ],
          "surface": [
           {
            "colorbar": {
             "outlinewidth": 0,
             "ticks": ""
            },
            "colorscale": [
             [
              0,
              "#0d0887"
             ],
             [
              0.1111111111111111,
              "#46039f"
             ],
             [
              0.2222222222222222,
              "#7201a8"
             ],
             [
              0.3333333333333333,
              "#9c179e"
             ],
             [
              0.4444444444444444,
              "#bd3786"
             ],
             [
              0.5555555555555556,
              "#d8576b"
             ],
             [
              0.6666666666666666,
              "#ed7953"
             ],
             [
              0.7777777777777778,
              "#fb9f3a"
             ],
             [
              0.8888888888888888,
              "#fdca26"
             ],
             [
              1,
              "#f0f921"
             ]
            ],
            "type": "surface"
           }
          ],
          "table": [
           {
            "cells": {
             "fill": {
              "color": "#EBF0F8"
             },
             "line": {
              "color": "white"
             }
            },
            "header": {
             "fill": {
              "color": "#C8D4E3"
             },
             "line": {
              "color": "white"
             }
            },
            "type": "table"
           }
          ]
         },
         "layout": {
          "annotationdefaults": {
           "arrowcolor": "#2a3f5f",
           "arrowhead": 0,
           "arrowwidth": 1
          },
          "autotypenumbers": "strict",
          "coloraxis": {
           "colorbar": {
            "outlinewidth": 0,
            "ticks": ""
           }
          },
          "colorscale": {
           "diverging": [
            [
             0,
             "#8e0152"
            ],
            [
             0.1,
             "#c51b7d"
            ],
            [
             0.2,
             "#de77ae"
            ],
            [
             0.3,
             "#f1b6da"
            ],
            [
             0.4,
             "#fde0ef"
            ],
            [
             0.5,
             "#f7f7f7"
            ],
            [
             0.6,
             "#e6f5d0"
            ],
            [
             0.7,
             "#b8e186"
            ],
            [
             0.8,
             "#7fbc41"
            ],
            [
             0.9,
             "#4d9221"
            ],
            [
             1,
             "#276419"
            ]
           ],
           "sequential": [
            [
             0,
             "#0d0887"
            ],
            [
             0.1111111111111111,
             "#46039f"
            ],
            [
             0.2222222222222222,
             "#7201a8"
            ],
            [
             0.3333333333333333,
             "#9c179e"
            ],
            [
             0.4444444444444444,
             "#bd3786"
            ],
            [
             0.5555555555555556,
             "#d8576b"
            ],
            [
             0.6666666666666666,
             "#ed7953"
            ],
            [
             0.7777777777777778,
             "#fb9f3a"
            ],
            [
             0.8888888888888888,
             "#fdca26"
            ],
            [
             1,
             "#f0f921"
            ]
           ],
           "sequentialminus": [
            [
             0,
             "#0d0887"
            ],
            [
             0.1111111111111111,
             "#46039f"
            ],
            [
             0.2222222222222222,
             "#7201a8"
            ],
            [
             0.3333333333333333,
             "#9c179e"
            ],
            [
             0.4444444444444444,
             "#bd3786"
            ],
            [
             0.5555555555555556,
             "#d8576b"
            ],
            [
             0.6666666666666666,
             "#ed7953"
            ],
            [
             0.7777777777777778,
             "#fb9f3a"
            ],
            [
             0.8888888888888888,
             "#fdca26"
            ],
            [
             1,
             "#f0f921"
            ]
           ]
          },
          "colorway": [
           "#636efa",
           "#EF553B",
           "#00cc96",
           "#ab63fa",
           "#FFA15A",
           "#19d3f3",
           "#FF6692",
           "#B6E880",
           "#FF97FF",
           "#FECB52"
          ],
          "font": {
           "color": "#2a3f5f"
          },
          "geo": {
           "bgcolor": "white",
           "lakecolor": "white",
           "landcolor": "#E5ECF6",
           "showlakes": true,
           "showland": true,
           "subunitcolor": "white"
          },
          "hoverlabel": {
           "align": "left"
          },
          "hovermode": "closest",
          "mapbox": {
           "style": "light"
          },
          "paper_bgcolor": "white",
          "plot_bgcolor": "#E5ECF6",
          "polar": {
           "angularaxis": {
            "gridcolor": "white",
            "linecolor": "white",
            "ticks": ""
           },
           "bgcolor": "#E5ECF6",
           "radialaxis": {
            "gridcolor": "white",
            "linecolor": "white",
            "ticks": ""
           }
          },
          "scene": {
           "xaxis": {
            "backgroundcolor": "#E5ECF6",
            "gridcolor": "white",
            "gridwidth": 2,
            "linecolor": "white",
            "showbackground": true,
            "ticks": "",
            "zerolinecolor": "white"
           },
           "yaxis": {
            "backgroundcolor": "#E5ECF6",
            "gridcolor": "white",
            "gridwidth": 2,
            "linecolor": "white",
            "showbackground": true,
            "ticks": "",
            "zerolinecolor": "white"
           },
           "zaxis": {
            "backgroundcolor": "#E5ECF6",
            "gridcolor": "white",
            "gridwidth": 2,
            "linecolor": "white",
            "showbackground": true,
            "ticks": "",
            "zerolinecolor": "white"
           }
          },
          "shapedefaults": {
           "line": {
            "color": "#2a3f5f"
           }
          },
          "ternary": {
           "aaxis": {
            "gridcolor": "white",
            "linecolor": "white",
            "ticks": ""
           },
           "baxis": {
            "gridcolor": "white",
            "linecolor": "white",
            "ticks": ""
           },
           "bgcolor": "#E5ECF6",
           "caxis": {
            "gridcolor": "white",
            "linecolor": "white",
            "ticks": ""
           }
          },
          "title": {
           "x": 0.05
          },
          "xaxis": {
           "automargin": true,
           "gridcolor": "white",
           "linecolor": "white",
           "ticks": "",
           "title": {
            "standoff": 15
           },
           "zerolinecolor": "white",
           "zerolinewidth": 2
          },
          "yaxis": {
           "automargin": true,
           "gridcolor": "white",
           "linecolor": "white",
           "ticks": "",
           "title": {
            "standoff": 15
           },
           "zerolinecolor": "white",
           "zerolinewidth": 2
          }
         }
        }
       }
      }
     },
     "metadata": {},
     "output_type": "display_data"
    }
   ],
   "source": [
    "filepath = \"audio/so_guitarra.wav\"\n",
    "ref, fs = load_audio(filepath)\n",
    "\n",
    "f = 666.66\n",
    "T = 1/f\n",
    "\n",
    "t_start = 0.208\n",
    "t_end = t_start + 8*T\n",
    "\n",
    "plot_signals(ref, fs, t_start, t_end)"
   ]
  },
  {
   "cell_type": "markdown",
   "metadata": {
    "id": "Q9q9DSPkzkKi"
   },
   "source": [
    "3.2. Now, define a harmonic signal, `y` whose fundamental frequency is the defined in Lab 1. Go step by step adding a new harmonic in each step. Plot both signals (the reference and the synthesized) and try to reproduce the shape of the reference signal.\n",
    "\n",
    "**Note 1**: in order to have a similar shape, we need to select the amplitudes and phases carefully. One way to do this is to define the harmonic signal as follows:\n",
    "\n",
    "$$y(t) = \\sum_{k=1}^K A_k\\cos\\left(2\\pi kf_0 t + k \\phi - (k-1)\\pi/2 \\right), $$\n",
    "\n",
    "where $K$ is the number of harmonics, $f_0$ is the fundamental frequency, $A_k$ is the amplitude (weight) of each harmonic and $\\phi$ is the phase of the signal (defined in Lab1 Ex 2.4).\n",
    "\n",
    "**Note 2**:\n",
    "Define the $A_k$ values relative to the fundamental frequency. This means to define $A_1=1$ and the others less than 1. You can use Audacity to plot the spectrum of the fragment selected of the reference audio and measure the relative amplitudes of the harmonics.\n",
    "\n",
    "**Note 3**: Normalize the amplitude of the signal by the same amplitude of the reference. For instance, if the amplitude of the reference signal is 0.33, you can normalize the syntesized signal by first dividing by its maximum and then multiplyng by 0.33:\n",
    "\n",
    "```\n",
    "y = 0.33 * y / np.amax(y)\n",
    "```"
   ]
  },
  {
   "cell_type": "code",
   "execution_count": 36,
   "metadata": {},
   "outputs": [
    {
     "data": {
      "image/png": "[encoded data removed]",
      "text/plain": [
       "<Figure size 1200x1320 with 6 Axes>"
      ]
     },
     "metadata": {},
     "output_type": "display_data"
    },
    {
     "data": {
      "image/png": "[encoded data removed]",
      "text/plain": [
       "<Figure size 1000x400 with 1 Axes>"
      ]
     },
     "metadata": {},
     "output_type": "display_data"
    }
   ],
   "source": [
    "import numpy as np\n",
    "import matplotlib.pyplot as plt\n",
    "from numpy import interp\n",
    "\n",
    "#Afegim els paràmetres de sempre, tot i que si hem executat tots els passos anteriors no seria necessari\n",
    "ref, fs = load_audio(filepath)      \n",
    "f = 666.66                             #Freqüència fonamental real\n",
    "P = np.pi                        \n",
    "t_start = 0.208\n",
    "T = 1/f\n",
    "t_end = t_start + 3*T\n",
    "t = np.linspace(t_start, t_end, 1000)\n",
    "inici = int(t_start * fs)   #Posició inicial dins del vector ref\n",
    "final = int(t_end * fs)     #Posició final dins del vector ref\n",
    "total = ref[inici:final]    #Fragment del senyal original\n",
    "t_original = np.linspace(t_start, t_end, len(total))    #Vector de temps\n",
    "\n",
    "#Definim k harmònics\n",
    "K = 6  \n",
    "\n",
    "#Definim les amplituds relatives a partir de mirar-les a la gràfica de l'activitat 3.1 (Lab2)\n",
    "A_rel = np.array([1.0, 0.9, 0.88, 0.86, 0.83, 0.81])\n",
    "\n",
    "ref_max = np.amax(np.abs(total))       #Agafem l'amplitud màxima en absolut de total\n",
    "if ref_max == 0:       #Si l'apmplitud és 0, li assignem 1\n",
    "   ref_max = 1.0  \n",
    "\n",
    "#Observarem l'evolució dels harmònics\n",
    "plt.figure(figsize=(12, 2.2 * K))       #Creem una figura amb k gràfiques\n",
    "y_parcial = np.zeros_like(t)    #Creem un array de zeros del mateix tamany de t que omplirem de la suma \n",
    "                                #dels harmònics del senyal sintetizat\n",
    "for k in range(1, K+1):         #Iterem sobre els harmònics\n",
    "    Ak = A_rel[k-1]             #Definim l'amplitud\n",
    "    P_k = k * P - (k-1) * np.pi/2     #Definim la fase\n",
    "    y_parcial += Ak * np.cos(2*np.pi * (k * f) * t + P_k)  #Sumem l'harmònic al senyal\n",
    "    y_normalitzat = ref_max * y_parcial / np.amax(np.abs(y_parcial))  #Normalitzem el senyal sintetitzat  \n",
    "                                        #perquè tingui la mateixa amplitud màxima que el fragment original\n",
    "    y_parcial_sintetitzat = interp(t_original, t, y_normalitzat)   #Ajustem el senyal sintetitzat 'y' perquè \n",
    "                                                    #coincideixi amb la longitud del fragment original\n",
    "\n",
    "    ax = plt.subplot(K, 1, k)           #Crea la sub-gràfica k\n",
    "    ax.plot(t_original, total, label=\"Original\", linewidth=0.8)      #Dibuixem senyal original\n",
    "    ax.plot(t_original, y_parcial_sintetitzat, label=f\"Sintetitzat amb k={k}\", linewidth=0.9)    #Dibuixem el senyal sintetitzat\n",
    "    ax.set_ylabel(\"Amplitud\")\n",
    "    ax.set_xlabel(\"Temps (s)\")\n",
    "    ax.legend(loc='upper right', fontsize='small')\n",
    "    ax.grid(True)\n",
    "\n",
    "plt.suptitle(\"Evolució afegint harmònics\")\n",
    "plt.tight_layout(rect=[0, 0.03, 1, 0.95])\n",
    "plt.show()\n",
    "\n",
    "y_sintetitzat = y_parcial_sintetitzat.copy()\n",
    "#Creem la gràfica final, amb els k harmònics\n",
    "plt.figure(figsize=(10,4))      #Augmentem la mida de la gràfica\n",
    "plt.plot(t_original, total, label=\"Original\", linewidth=1)     #Dibuixem el senyal original\n",
    "plt.plot(t_original, y_sintetitzat, label=f\"Sintetitzat (K={K})\", linewidth=1) #Dibuixem el senyal sintetitzat\n",
    "plt.xlabel(\"Temps (s)\")\n",
    "plt.ylabel(\"Amplitud\")\n",
    "plt.title(\"Senyal Original vs Senyal Sintetitzat (Harmònics)\")\n",
    "plt.legend()\n",
    "plt.grid(True)\n",
    "plt.show()"
   ]
  },
  {
   "cell_type": "markdown",
   "metadata": {
    "id": "FFOPYFkn3fmh"
   },
   "source": [
    "3.3. Listen to the synthtesis and remark what are the main differences between the reference and synthesis."
   ]
  },
  {
   "cell_type": "code",
   "execution_count": 12,
   "metadata": {
    "colab": {
     "base_uri": "https://localhost:8080/",
     "height": 176
    },
    "executionInfo": {
     "elapsed": 13,
     "status": "error",
     "timestamp": 1702317971657,
     "user": {
      "displayName": "PEDRO RAMONEDA FRANCO",
      "userId": "10653804143244385715"
     },
     "user_tz": -60
    },
    "id": "Jztm9rOd3etP",
    "outputId": "97312be1-7d6a-4034-e147-9fcac5de1e7c"
   },
   "outputs": [
    {
     "name": "stdout",
     "output_type": "stream",
     "text": [
      "Senyal original\n"
     ]
    },
    {
     "data": {
      "text/html": [
       "\n",
       "                <audio  controls=\"controls\" >\n",
       "                    <source src=\"data:audio/wav;base64,UklGRjYCAABXQVZFZm10IBAAAAABAAEARKwAAIhYAQACABAAZGF0YRICAABYL2AInd1nypTQu96X5oLqlvmvGpQ5hzsPJi4U2QkQ8B7C85UBgFuDb5s9waLn7f8eCFILzQlp/fPuufKDCnwnzj1URyJAVycjAOXV2bucu0HMY+IT/tkcGy/LJ/AMiPNv65D5KBTWKM4slCeiJT4p4SoeIjAQYwT+CLkVBhmvEgIVoCdxNzwrcANV20jLw9JA4C/n3Ou5/PYd7zmtOE4j8hK8B+Pr9r2GlHqBFYd4oD/G/Or4AG0ILgvCCJX78+4B9WMNhylCPh5GEj0qI4n7KtMVvBS+G89t5V8B0R59LqIk3wk68rfsLfx7FgcpqiutJlMlEymxKeMfVg5RBE0KFBYTGCkSURYyKVk26ibi/mPZbMzO1Jrh3+dV7fP/9CDROeY1tyC1EW8Fr+cdumKTNoPiioyl/8oM7usBlwgVC3kHCvoj72f3HhBhK5E+t0TvOeMeJPfK0Ju8jMD00XfoewSfIHgtjCH6BjrxDO70/mgYLCmAKsAlQCWgKJQoiR2/DHUEdwtjFgEX5hG3F4Aq7TSYIoP62NeuzczW3eKP6PPuMwOpI105ADN2HmcQ8AJ045+2jZIjhdmOfaqaz8fwxgLICMwKKwaj+J3vx/nZEvIs1D77QuU2Zhoz85XOfL3+wsLUh+ttBzAiKSx2HkUEePCj75ABPBr7KG4p/iQKJVEoGydgG1ILuAStDFcWIBbCEQ==\" type=\"audio/wav\" />\n",
       "                    Your browser does not support the audio element.\n",
       "                </audio>\n",
       "              "
      ],
      "text/plain": [
       "<IPython.lib.display.Audio object>"
      ]
     },
     "metadata": {},
     "output_type": "display_data"
    },
    {
     "name": "stdout",
     "output_type": "stream",
     "text": [
      "Senyal sintetitzat\n"
     ]
    },
    {
     "data": {
      "text/html": [
       "\n",
       "                <audio  controls=\"controls\" >\n",
       "                    <source src=\"data:audio/wav;base64,UklGRjYCAABXQVZFZm10IBAAAAABAAEARKwAAIhYAQACABAAZGF0YRICAAAA4iDq3fKj+iIAigKuARX+wPj+8i3ubOtf6yDuNvOy+VkA9QWJCX4KzQj9BAAAAPsy94X1evYK+qX/TgbHDN8RpRSXFNERAA1AB+cBUf57/eH/WwUiDeAV+x3lI28m+iTKH/AXKA+ZB4YDvQRPDE8asi1MRBtbxG4CfP5/I3kpZy9LoicAAGXY1rTKmNCGCYAPhDqR3qS1u0rSq+W28077efxg+NfwD+gz4AnbmNka3ADiIOrd8qP6IgCKAq4BFf7A+P7yLe5s61/rIO4287L5WQD1BYkJfgrNCP0EAAAA+zL3hfV69gr6pf9OBscM3xGlFJcU0READUAH5wFR/nv94f9bBSIN4BX7HeUjbyb6JMof8BcoD5kHhgO9BE8MTxqyLUxEG1vEbgJ8/n8jeSlnL0uiJwAAZdjWtMqY0IYJgA+EOpHepLW7StKr5bbzTvt5/GD41/AP6DPgCduY2RrcAOIg6t3yo/oiAIoCrgEV/sD4/vIt7mzrX+sg7jbzsvlZAPUFiQl+Cs0I/QQAAAD7MveF9Xr2Cvql/04GxwzfEaUUlxTREQANQAfnAVH+e/3h/1sFIg3gFfsd5SNvJvokyh/wFygPmQeGA70ETwxPGrItTEQbW8RuAnz/fyN5KWcvS6InAABl2Na0ypjQhgmAD4Q6kd6ktbtK0qvltvNO+3n8YPjX8A/oM+AJ25jZGtwA4g==\" type=\"audio/wav\" />\n",
       "                    Your browser does not support the audio element.\n",
       "                </audio>\n",
       "              "
      ],
      "text/plain": [
       "<IPython.lib.display.Audio object>"
      ]
     },
     "metadata": {},
     "output_type": "display_data"
    }
   ],
   "source": [
    "from IPython.display import display, Audio\n",
    "\n",
    "print(\"Senyal original\")\n",
    "display(Audio(total, rate = fs))\n",
    "\n",
    "print(\"Senyal sintetitzat\")\n",
    "display(Audio(y_sintetitzat, rate = fs))"
   ]
  },
  {
   "cell_type": "markdown",
   "metadata": {
    "id": "2S9SR2Ev3lZn"
   },
   "source": [
    "Podem començar a observar que ja coemencen a assemblar-se bastant. De totes formes, sí que és veritat que el senyal original és una mica més llarg, i no és tan fort, mentre que el sintetitzat és més curt i sembla que sigui més greu."
   ]
  }
 ],
 "metadata": {
  "colab": {
   "provenance": []
  },
  "kernelspec": {
   "display_name": ".venv",
   "language": "python",
   "name": "python3"
  },
  "language_info": {
   "codemirror_mode": {
    "name": "ipython",
    "version": 3
   },
   "file_extension": ".py",
   "mimetype": "text/x-python",
   "name": "python",
   "nbconvert_exporter": "python",
   "pygments_lexer": "ipython3",
   "version": "3.10.18"
  }
 },
 "nbformat": 4,
 "nbformat_minor": 0
}
